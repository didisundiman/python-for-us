{
 "cells": [
  {
   "cell_type": "markdown",
   "metadata": {},
   "source": [
    "# Bigram\n",
    "https://towardsdatascience.com/text-analysis-basics-in-python-443282942ec5"
   ]
  },
  {
   "cell_type": "markdown",
   "metadata": {},
   "source": [
    "# Loading data"
   ]
  },
  {
   "cell_type": "code",
   "execution_count": null,
   "metadata": {},
   "outputs": [],
   "source": [
    "import pandas as pd \n",
    "import numpy as np\n",
    "\n",
    "#agar mudah, letakkan file data dalam satu folder dengan file jupiter notebook nya\n",
    "\n",
    "filedata = 'discussion'\n",
    "\n",
    "dataSB = pd.read_excel(filedata+\".xlsx\", sheet_name=\"Sheet1\")\n",
    "\n",
    "dataSB.head()"
   ]
  },
  {
   "cell_type": "markdown",
   "metadata": {},
   "source": [
    "# lower case"
   ]
  },
  {
   "cell_type": "code",
   "execution_count": null,
   "metadata": {
    "scrolled": true
   },
   "outputs": [],
   "source": [
    "# ------ Case Folding --------\n",
    "# gunakan fungsi Series.str.lower() pada Pandas\n",
    "dataSB['textdata'] = dataSB['message'].str.lower()\n",
    "\n",
    "print('Case Folding Result : \\n')\n",
    "print(dataSB['textdata'].head(5))"
   ]
  },
  {
   "cell_type": "code",
   "execution_count": null,
   "metadata": {},
   "outputs": [],
   "source": [
    "#jika AttributeError: 'float' object has no attribute 'replace'\n",
    "\n",
    "#import ast\n",
    "dataSB['textdata'] = dataSB['textdata'].astype(str)"
   ]
  },
  {
   "cell_type": "markdown",
   "metadata": {},
   "source": [
    "# Tokenizing\n",
    "Memecah teks menjadi perkata, dan membersihkan simbol-simbol"
   ]
  },
  {
   "cell_type": "code",
   "execution_count": null,
   "metadata": {},
   "outputs": [],
   "source": [
    "import string \n",
    "import re #regex library\n",
    "\n",
    "# import word_tokenize & FreqDist from NLTK\n",
    "from nltk.tokenize import word_tokenize \n",
    "from nltk.probability import FreqDist\n",
    "\n",
    "# ------ Tokenizing ---------\n",
    "\n",
    "def remove_tweet_special(text):\n",
    "    # remove tab, new line, ans back slice\n",
    "    text = text.replace('\\\\t',\" \").replace('\\\\n',\" \").replace('\\\\u',\" \").replace('\\\\',\"\")\n",
    "    # remove non ASCII (emoticon, chinese word, .etc)\n",
    "    text = text.encode('ascii', 'replace').decode('ascii')\n",
    "    # remove mention, link, hashtag\n",
    "    text = ' '.join(re.sub(\"([@#][A-Za-z0-9]+)|(\\w+:\\/\\/\\S+)\",\" \", text).split())\n",
    "    # remove incomplete URL\n",
    "    return text.replace(\"http://\", \" \").replace(\"https://\", \" \")\n",
    "                \n",
    "dataSB['textdata'] = dataSB['textdata'].apply(remove_tweet_special)"
   ]
  },
  {
   "cell_type": "code",
   "execution_count": null,
   "metadata": {},
   "outputs": [],
   "source": [
    "#remove number\n",
    "def remove_number(text):\n",
    "    return  re.sub(r\"\\d+\", \"\", text)\n",
    "\n",
    "dataSB['textdata'] = dataSB['textdata'].apply(remove_number)\n"
   ]
  },
  {
   "cell_type": "code",
   "execution_count": null,
   "metadata": {},
   "outputs": [],
   "source": [
    "#remove whitespace leading & trailing\n",
    "def remove_whitespace_LT(text):\n",
    "    return text.strip()\n",
    "\n",
    "dataSB['textdata'] = dataSB['textdata'].apply(remove_whitespace_LT)\n",
    "\n",
    "#remove multiple whitespace into single whitespace\n",
    "def remove_whitespace_multiple(text):\n",
    "    return re.sub('\\s+',' ',text)\n",
    "\n",
    "dataSB['textdata'] = dataSB['textdata'].apply(remove_whitespace_multiple)\n",
    "\n",
    "# remove single char\n",
    "def remove_singl_char(text):\n",
    "    return re.sub(r\"\\b[a-zA-Z]\\b\", \"\", text)\n",
    "\n",
    "dataSB['textdata'] = dataSB['textdata'].apply(remove_singl_char)\n",
    "\n",
    "#dataSB['textdata']"
   ]
  },
  {
   "cell_type": "code",
   "execution_count": null,
   "metadata": {},
   "outputs": [],
   "source": [
    "def remove_special_bigram(text):\n",
    "    text = text.replace(\"kolom komentar\", \" \").replace(\"jutaan rupiah\", \" \").replace(\"rp\", \" \")\n",
    "    \n",
    "    text = text.replace(\"apple amazon\", \" \")\n",
    "    text = text.replace(\"pendiri apple\", \" \")\n",
    "    \n",
    "    return text \n",
    "                \n",
    "dataSB['textdataClean'] = dataSB['textdata'].apply(remove_special_bigram)"
   ]
  },
  {
   "cell_type": "code",
   "execution_count": null,
   "metadata": {},
   "outputs": [],
   "source": [
    "def remove_special_bigram2(text):\n",
    "    \n",
    "    text = text.replace(\"selamat malam\", \" \")\n",
    "    text = text.replace(\"konsep prinsip\", \" \")\n",
    "    text = text.replace(\"terima kasih\", \" \")\n",
    "    text = text.replace(\"kesamaan konsep\", \" \")\n",
    "    text = text.replace(\"dimiliki amazon\", \" \")\n",
    "    text = text.replace(\"apple amazon\", \" \")\n",
    "    text = text.replace(\"prinsip dimiliki\", \" \")\n",
    "\n",
    "    return text \n",
    "                \n",
    "dataSB['textdataClean'] = dataSB['textdataClean'].apply(remove_special_bigram2)"
   ]
  },
  {
   "cell_type": "markdown",
   "metadata": {},
   "source": [
    "# Proses"
   ]
  },
  {
   "cell_type": "code",
   "execution_count": null,
   "metadata": {},
   "outputs": [],
   "source": [
    "from textblob import TextBlob\n",
    "dataSB['polarity'] = dataSB['textdataClean'].apply(lambda x: TextBlob(x).polarity)\n",
    "dataSB['subjective'] = dataSB['textdataClean'].apply(lambda x: TextBlob(x).subjectivity)\n",
    "dataSB[0:5]"
   ]
  },
  {
   "cell_type": "code",
   "execution_count": null,
   "metadata": {},
   "outputs": [],
   "source": [
    "from nltk.corpus import stopwords\n",
    "stoplist = stopwords.words('bahasa') + ['though']\n",
    "#stoplist"
   ]
  },
  {
   "cell_type": "code",
   "execution_count": null,
   "metadata": {},
   "outputs": [],
   "source": [
    "from sklearn.feature_extraction.text import CountVectorizer\n",
    "c_vec = CountVectorizer(stop_words=stoplist, ngram_range=(2,2))\n",
    "# matrix of ngrams\n",
    "ngrams = c_vec.fit_transform(dataSB['textdataClean'])\n",
    "# count frequency of ngrams\n",
    "count_values = ngrams.toarray().sum(axis=0)\n",
    "# list of ngrams\n",
    "vocab = c_vec.vocabulary_\n",
    "\n",
    "df_ngram = pd.DataFrame(sorted([(count_values[i],k) for k,i in vocab.items()], reverse=True)\n",
    "            ).rename(columns={0: 'frequency', 1:'bigram/trigram'})\n",
    "df_ngram[0:40]"
   ]
  },
  {
   "cell_type": "code",
   "execution_count": null,
   "metadata": {},
   "outputs": [],
   "source": [
    "#list(df_ngram('bigram/trigram'))"
   ]
  },
  {
   "cell_type": "markdown",
   "metadata": {},
   "source": [
    "# save to exccel"
   ]
  },
  {
   "cell_type": "code",
   "execution_count": null,
   "metadata": {},
   "outputs": [],
   "source": [
    "filedisimpan='data_bigram.xlsx'\n",
    "df_ngram[0:100].to_excel(filedisimpan, index = False, header=True)"
   ]
  }
 ],
 "metadata": {
  "kernelspec": {
   "display_name": "Python 3",
   "language": "python",
   "name": "python3"
  },
  "language_info": {
   "codemirror_mode": {
    "name": "ipython",
    "version": 3
   },
   "file_extension": ".py",
   "mimetype": "text/x-python",
   "name": "python",
   "nbconvert_exporter": "python",
   "pygments_lexer": "ipython3",
   "version": "3.8.8"
  }
 },
 "nbformat": 4,
 "nbformat_minor": 4
}
