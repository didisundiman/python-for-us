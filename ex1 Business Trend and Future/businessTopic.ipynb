{
 "cells": [
  {
   "cell_type": "markdown",
   "metadata": {},
   "source": [
    "# Loading data"
   ]
  },
  {
   "cell_type": "code",
   "execution_count": 1,
   "metadata": {},
   "outputs": [
    {
     "data": {
      "text/html": [
       "<div>\n",
       "<style scoped>\n",
       "    .dataframe tbody tr th:only-of-type {\n",
       "        vertical-align: middle;\n",
       "    }\n",
       "\n",
       "    .dataframe tbody tr th {\n",
       "        vertical-align: top;\n",
       "    }\n",
       "\n",
       "    .dataframe thead th {\n",
       "        text-align: right;\n",
       "    }\n",
       "</style>\n",
       "<table border=\"1\" class=\"dataframe\">\n",
       "  <thead>\n",
       "    <tr style=\"text-align: right;\">\n",
       "      <th></th>\n",
       "      <th>link</th>\n",
       "      <th>textdata</th>\n",
       "    </tr>\n",
       "  </thead>\n",
       "  <tbody>\n",
       "    <tr>\n",
       "      <th>0</th>\n",
       "      <td>https://www.msn.com/en-ph/news/opinion/how-to-...</td>\n",
       "      <td>Editor’s note: The opinions in this article ...</td>\n",
       "    </tr>\n",
       "    <tr>\n",
       "      <th>1</th>\n",
       "      <td>https://www.marketwatch.com/story/how-to-susta...</td>\n",
       "      <td>The U.S. economy took a remarkable bounce th...</td>\n",
       "    </tr>\n",
       "    <tr>\n",
       "      <th>2</th>\n",
       "      <td>https://www.businessinsider.com/3-critical-way...</td>\n",
       "      <td>\\nSubscriber\\nAccount active\\n              s...</td>\n",
       "    </tr>\n",
       "    <tr>\n",
       "      <th>3</th>\n",
       "      <td>https://www.businessinsider.com/nissans-uk-bus...</td>\n",
       "      <td>\\nSubscriber\\nAccount active\\n              s...</td>\n",
       "    </tr>\n",
       "    <tr>\n",
       "      <th>4</th>\n",
       "      <td>https://www.businessinsider.com/younger-adults...</td>\n",
       "      <td>\\r\\nSubscriber\\r\\nAccount active\\r\\n         ...</td>\n",
       "    </tr>\n",
       "  </tbody>\n",
       "</table>\n",
       "</div>"
      ],
      "text/plain": [
       "                                                link  \\\n",
       "0  https://www.msn.com/en-ph/news/opinion/how-to-...   \n",
       "1  https://www.marketwatch.com/story/how-to-susta...   \n",
       "2  https://www.businessinsider.com/3-critical-way...   \n",
       "3  https://www.businessinsider.com/nissans-uk-bus...   \n",
       "4  https://www.businessinsider.com/younger-adults...   \n",
       "\n",
       "                                            textdata  \n",
       "0    Editor’s note: The opinions in this article ...  \n",
       "1    The U.S. economy took a remarkable bounce th...  \n",
       "2   \\nSubscriber\\nAccount active\\n              s...  \n",
       "3   \\nSubscriber\\nAccount active\\n              s...  \n",
       "4   \\r\\nSubscriber\\r\\nAccount active\\r\\n         ...  "
      ]
     },
     "execution_count": 1,
     "metadata": {},
     "output_type": "execute_result"
    }
   ],
   "source": [
    "import pandas as pd \n",
    "import numpy as np\n",
    "\n",
    "#agar mudah, letakkan file data dalam satu folder dengan file jupiter notebook nya\n",
    "#jenis file csv utf-8\n",
    "\n",
    "filedata = 'scrapingBisnisSustain'\n",
    "#filedata = 'scrapingBisnisTrend'\n",
    "\n",
    "dataSB = pd.read_csv(filedata+\".csv\")\n",
    "\n",
    "dataSB.head()"
   ]
  },
  {
   "cell_type": "markdown",
   "metadata": {},
   "source": [
    "# lower case"
   ]
  },
  {
   "cell_type": "code",
   "execution_count": 2,
   "metadata": {
    "scrolled": true
   },
   "outputs": [
    {
     "name": "stdout",
     "output_type": "stream",
     "text": [
      "Case Folding Result : \n",
      "\n",
      "0      editor’s note: the opinions in this article ...\n",
      "1      the u.s. economy took a remarkable bounce th...\n",
      "2     \\nsubscriber\\naccount active\\n              s...\n",
      "3     \\nsubscriber\\naccount active\\n              s...\n",
      "4     \\r\\nsubscriber\\r\\naccount active\\r\\n         ...\n",
      "Name: textdata, dtype: object\n"
     ]
    }
   ],
   "source": [
    "# ------ Case Folding --------\n",
    "# gunakan fungsi Series.str.lower() pada Pandas\n",
    "dataSB['textdata'] = dataSB['textdata'].str.lower()\n",
    "\n",
    "print('Case Folding Result : \\n')\n",
    "print(dataSB['textdata'].head(5))"
   ]
  },
  {
   "cell_type": "markdown",
   "metadata": {},
   "source": [
    "# Tokenizing\n",
    "Memecah teks menjadi perkata, dan membersihkan simbol-simbol"
   ]
  },
  {
   "cell_type": "code",
   "execution_count": 3,
   "metadata": {},
   "outputs": [
    {
     "name": "stdout",
     "output_type": "stream",
     "text": [
      "Tokenizing Result : \n",
      "\n",
      "0    [editors, note, the, opinions, in, this, artic...\n",
      "1    [the, us, economy, took, remarkable, bounce, t...\n",
      "2    [subscriber, account, active, since, free, sub...\n",
      "3    [subscriber, account, active, since, free, sub...\n",
      "4    [subscriber, account, active, since, free, sub...\n",
      "Name: textdata_tokens, dtype: object\n"
     ]
    }
   ],
   "source": [
    "import string \n",
    "import re #regex library\n",
    "\n",
    "# import word_tokenize & FreqDist from NLTK\n",
    "from nltk.tokenize import word_tokenize \n",
    "from nltk.probability import FreqDist\n",
    "\n",
    "# ------ Tokenizing ---------\n",
    "\n",
    "def remove_tweet_special(text):\n",
    "    # remove tab, new line, ans back slice\n",
    "    text = text.replace('\\\\t',\" \").replace('\\\\n',\" \").replace('\\\\u',\" \").replace('\\\\',\"\")\n",
    "    # remove non ASCII (emoticon, chinese word, .etc)\n",
    "    text = text.encode('ascii', 'replace').decode('ascii')\n",
    "    # remove mention, link, hashtag\n",
    "    text = ' '.join(re.sub(\"([@#][A-Za-z0-9]+)|(\\w+:\\/\\/\\S+)\",\" \", text).split())\n",
    "    # remove incomplete URL\n",
    "    return text.replace(\"http://\", \" \").replace(\"https://\", \" \")\n",
    "                \n",
    "dataSB['textdata'] = dataSB['textdata'].apply(remove_tweet_special)\n",
    "\n",
    "#remove number\n",
    "def remove_number(text):\n",
    "    return  re.sub(r\"\\d+\", \"\", text)\n",
    "\n",
    "dataSB['textdata'] = dataSB['textdata'].apply(remove_number)\n",
    "\n",
    "#remove punctuation\n",
    "def remove_punctuation(text):\n",
    "    return text.translate(str.maketrans(\"\",\"\",string.punctuation))\n",
    "\n",
    "dataSB['textdata'] = dataSB['textdata'].apply(remove_punctuation)\n",
    "\n",
    "#remove whitespace leading & trailing\n",
    "def remove_whitespace_LT(text):\n",
    "    return text.strip()\n",
    "\n",
    "dataSB['textdata'] = dataSB['textdata'].apply(remove_whitespace_LT)\n",
    "\n",
    "#remove multiple whitespace into single whitespace\n",
    "def remove_whitespace_multiple(text):\n",
    "    return re.sub('\\s+',' ',text)\n",
    "\n",
    "dataSB['textdata'] = dataSB['textdata'].apply(remove_whitespace_multiple)\n",
    "\n",
    "# remove single char\n",
    "def remove_singl_char(text):\n",
    "    return re.sub(r\"\\b[a-zA-Z]\\b\", \"\", text)\n",
    "\n",
    "dataSB['textdata'] = dataSB['textdata'].apply(remove_singl_char)\n",
    "\n",
    "# NLTK word rokenize \n",
    "def word_tokenize_wrapper(text):\n",
    "    return word_tokenize(text)\n",
    "\n",
    "dataSB['textdata_tokens'] = dataSB['textdata'].apply(word_tokenize_wrapper)\n",
    "\n",
    "print('Tokenizing Result : \\n') \n",
    "print(dataSB['textdata_tokens'].head())"
   ]
  },
  {
   "cell_type": "markdown",
   "metadata": {},
   "source": [
    "# NLTK calc frequency distribution\n",
    "Menghitung frequency tiap kata"
   ]
  },
  {
   "cell_type": "code",
   "execution_count": 4,
   "metadata": {},
   "outputs": [
    {
     "name": "stdout",
     "output_type": "stream",
     "text": [
      "Frequency Tokens : \n",
      "\n",
      "0    [(the, 71), (and, 44), (of, 44), (to, 41), (in...\n",
      "1    [(the, 44), (and, 28), (to, 20), (in, 18), (of...\n",
      "2    [(to, 30), (you, 24), (and, 23), (the, 23), (y...\n",
      "3    [(it, 12), (the, 11), (that, 9), (in, 9), (not...\n",
      "4    [(the, 14), (to, 9), (and, 8), (care, 8), (of,...\n",
      "Name: textdata_tokens_fdist, dtype: object\n"
     ]
    }
   ],
   "source": [
    "# NLTK calc frequency distribution\n",
    "def freqDist_wrapper(text):\n",
    "    return FreqDist(text)\n",
    "\n",
    "dataSB['textdata_tokens_fdist'] = dataSB['textdata_tokens'].apply(freqDist_wrapper)\n",
    "\n",
    "print('Frequency Tokens : \\n') \n",
    "print(dataSB['textdata_tokens_fdist'].head().apply(lambda x : x.most_common()))"
   ]
  },
  {
   "cell_type": "markdown",
   "metadata": {},
   "source": [
    "# Stopwords\n",
    "Membersihkan teks dari kata-kata yang termasuk ke dalam stopwords"
   ]
  },
  {
   "cell_type": "code",
   "execution_count": 5,
   "metadata": {},
   "outputs": [
    {
     "name": "stdout",
     "output_type": "stream",
     "text": [
      "0    [editors, note, opinions, article, authors, pu...\n",
      "1    [economy, took, remarkable, bounce, past, mont...\n",
      "2    [subscriber, account, active, since, free, sub...\n",
      "3    [subscriber, account, active, since, free, sub...\n",
      "4    [subscriber, account, active, since, free, sub...\n",
      "Name: textdata_tokens_WSW, dtype: object\n"
     ]
    }
   ],
   "source": [
    "from nltk.corpus import stopwords\n",
    "\n",
    "# ----------------------- get stopword from NLTK stopword -------------------------------\n",
    "# get stopword indonesia\n",
    "list_stopwords = stopwords.words('english')\n",
    "\n",
    "\n",
    "# ---------------------------- manualy add stopword  ------------------------------------\n",
    "# append additional stopword\n",
    "list_stopwords.extend(['from', 'subject', 're', 'edu', 'use', 'sustain', 'sustainability','sustainable', 'work', 'mr',\n",
    "                       'singapore', 'us', 'china',\n",
    "                      'business', 'trend'])\n",
    "\n",
    "# convert list to dictionary\n",
    "list_stopwords = set(list_stopwords)\n",
    "\n",
    "#remove stopword pada list token\n",
    "def stopwords_removal(words):\n",
    "    return [word for word in words if word not in list_stopwords]\n",
    "\n",
    "dataSB['textdata_tokens_WSW'] = dataSB['textdata_tokens'].apply(stopwords_removal) \n",
    "\n",
    "print(dataSB['textdata_tokens_WSW'].head())"
   ]
  },
  {
   "cell_type": "markdown",
   "metadata": {},
   "source": [
    "# Normalisasi\n",
    "Mengganti kata-kata tertentu dengan kata lain yang lebih tepat"
   ]
  },
  {
   "cell_type": "code",
   "execution_count": 6,
   "metadata": {},
   "outputs": [
    {
     "data": {
      "text/plain": [
       "0    [editors, note, opinions, article, authors, pu...\n",
       "1    [economy, took, remarkable, bounce, past, mont...\n",
       "2    [subscriber, account, active, since, free, sub...\n",
       "3    [subscriber, account, active, since, free, sub...\n",
       "4    [subscriber, account, active, since, free, sub...\n",
       "5    [book, based, ideas, associated, labor, group,...\n",
       "6    [ben, casselman, brandon, williams, supposed, ...\n",
       "7    [keith, bradsher, elaine, yu, russell, goldman...\n",
       "8    [nelson, schwartz, gillian, friedman, american...\n",
       "9    [earlier, year, proprietary, data, led, make, ...\n",
       "Name: textdata_normalized, dtype: object"
      ]
     },
     "execution_count": 6,
     "metadata": {},
     "output_type": "execute_result"
    }
   ],
   "source": [
    "normalizad_word = pd.read_excel(\"normalisasi.xlsx\")\n",
    "\n",
    "normalizad_word_dict = {}\n",
    "\n",
    "for index, row in normalizad_word.iterrows():\n",
    "    if row[0] not in normalizad_word_dict:\n",
    "        normalizad_word_dict[row[0]] = row[1] \n",
    "\n",
    "def normalized_term(document):\n",
    "    return [normalizad_word_dict[term] if term in normalizad_word_dict else term for term in document]\n",
    "\n",
    "dataSB['textdata_normalized'] = dataSB['textdata_tokens_WSW'].apply(normalized_term)\n",
    "\n",
    "dataSB['textdata_normalized'].head(10)"
   ]
  },
  {
   "cell_type": "markdown",
   "metadata": {},
   "source": [
    "# Stemmer NLTK"
   ]
  },
  {
   "cell_type": "code",
   "execution_count": 7,
   "metadata": {},
   "outputs": [
    {
     "name": "stdout",
     "output_type": "stream",
     "text": [
      "['custom', 'gener', 'frighten']\n"
     ]
    }
   ],
   "source": [
    "from nltk.stem import PorterStemmer\n",
    "stemming = PorterStemmer()\n",
    "\n",
    "my_list = ['customer', 'generously', 'frightens']\n",
    "\n",
    "# Using a Python list comprehension method to apply to all words in my_list\n",
    "\n",
    "print ([stemming.stem(word) for word in my_list])"
   ]
  },
  {
   "cell_type": "code",
   "execution_count": 8,
   "metadata": {},
   "outputs": [
    {
     "name": "stdout",
     "output_type": "stream",
     "text": [
      "['custom', 'generous', 'digit']\n"
     ]
    }
   ],
   "source": [
    "from nltk.stem.snowball import SnowballStemmer\n",
    "stemming = SnowballStemmer(\"english\")\n",
    "\n",
    "\n",
    "my_list = ['customers', 'generously', 'digital']\n",
    "\n",
    "# Using a Python list comprehension method to apply to all words in my_list\n",
    "\n",
    "print ([stemming.stem(word) for word in my_list])"
   ]
  },
  {
   "cell_type": "code",
   "execution_count": 9,
   "metadata": {},
   "outputs": [
    {
     "name": "stdout",
     "output_type": "stream",
     "text": [
      "0      [editor, note, opinion, articl, author, publis...\n",
      "1      [economi, took, remark, bounc, past, month, ac...\n",
      "2      [subscrib, account, activ, sinc, free, subscri...\n",
      "3      [subscrib, account, activ, sinc, free, subscri...\n",
      "4      [subscrib, account, activ, sinc, free, subscri...\n",
      "                             ...                        \n",
      "995    [youv, work, hard, life, your, brink, retir, t...\n",
      "996    [young, peopl, love, plant, nurseri, owner, wa...\n",
      "997    [cultur, might, posit, brand, messag, might, p...\n",
      "998    [youv, work, hard, put, countless, hour, make,...\n",
      "999    [zhangy, juli, employe, harvest, tomato, intel...\n",
      "Name: textdata_tokens_stemmed, Length: 1000, dtype: object\n"
     ]
    }
   ],
   "source": [
    "import pandas as pd\n",
    "\n",
    "#from nltk.stem import PorterStemmer\n",
    "#stemming = PorterStemmer()\n",
    "\n",
    "from nltk.stem.snowball import SnowballStemmer\n",
    "stemming = SnowballStemmer(\"english\")\n",
    "\n",
    "def stem_list(row):\n",
    "    my_list = row['textdata_normalized']\n",
    "    stemmed_list = [stemming.stem(word) for word in my_list]\n",
    "    return (stemmed_list)\n",
    "\n",
    "dataSB['textdata_tokens_stemmed'] = dataSB.apply(stem_list, axis=1)\n",
    "print(dataSB['textdata_tokens_stemmed'])"
   ]
  },
  {
   "cell_type": "code",
   "execution_count": 10,
   "metadata": {},
   "outputs": [],
   "source": [
    "#batas coba steamer NLTK"
   ]
  },
  {
   "cell_type": "code",
   "execution_count": 11,
   "metadata": {},
   "outputs": [
    {
     "data": {
      "text/plain": [
       "0    [editor, note, opinion, articl, author, publis...\n",
       "1    [economi, took, remark, bounc, past, month, ac...\n",
       "2    [subscrib, account, activ, sinc, free, subscri...\n",
       "3    [subscrib, account, activ, sinc, free, subscri...\n",
       "4    [subscrib, account, activ, sinc, free, subscri...\n",
       "Name: textdata_tokens_stemmed, dtype: object"
      ]
     },
     "execution_count": 11,
     "metadata": {},
     "output_type": "execute_result"
    }
   ],
   "source": [
    "dataSB['textdata_tokens_stemmed'][0:5]"
   ]
  },
  {
   "cell_type": "code",
   "execution_count": 12,
   "metadata": {},
   "outputs": [
    {
     "name": "stdout",
     "output_type": "stream",
     "text": [
      "33992\n"
     ]
    }
   ],
   "source": [
    "term_dict = {}\n",
    "\n",
    "for document in dataSB['textdata_normalized']:\n",
    "    for term in document:\n",
    "        if term not in term_dict:\n",
    "            term_dict[term] = ' '\n",
    "            \n",
    "print(len(term_dict))"
   ]
  },
  {
   "cell_type": "code",
   "execution_count": 13,
   "metadata": {},
   "outputs": [
    {
     "data": {
      "text/plain": [
       "['zhangye', 'july', 'employees', 'harvest', 'tomatoes']"
      ]
     },
     "execution_count": 13,
     "metadata": {},
     "output_type": "execute_result"
    }
   ],
   "source": [
    "for i in range(len(dataSB)):\n",
    "        a=dataSB.iloc[i][5]\n",
    "        document.append(a)\n",
    "        \n",
    "document[0:5]"
   ]
  },
  {
   "cell_type": "markdown",
   "metadata": {},
   "source": [
    "# normalized again"
   ]
  },
  {
   "cell_type": "code",
   "execution_count": 14,
   "metadata": {},
   "outputs": [
    {
     "data": {
      "text/plain": [
       "0    [editor, note, opinion, articl, author, publis...\n",
       "1    [economi, took, remark, bounc, past, month, ac...\n",
       "2    [subscrib, account, activ, sinc, free, subscri...\n",
       "3    [subscrib, account, activ, sinc, free, subscri...\n",
       "4    [subscrib, account, activ, sinc, free, subscri...\n",
       "5    [book, base, idea, associ, labor, group, earli...\n",
       "6    [ben, casselman, brandon, william, suppos, spe...\n",
       "7    [keith, bradsher, elain, yu, russel, goldman, ...\n",
       "8    [nelson, schwartz, gillian, friedman, american...\n",
       "9    [earlier, year, proprietari, data, led, make, ...\n",
       "Name: textdata_tokens_stemmed, dtype: object"
      ]
     },
     "execution_count": 14,
     "metadata": {},
     "output_type": "execute_result"
    }
   ],
   "source": [
    "normalizad_word = pd.read_excel(\"normalisasi.xlsx\")\n",
    "\n",
    "normalizad_word_dict = {}\n",
    "\n",
    "for index, row in normalizad_word.iterrows():\n",
    "    if row[0] not in normalizad_word_dict:\n",
    "        normalizad_word_dict[row[0]] = row[1] \n",
    "\n",
    "def normalized_term(document):\n",
    "    return [normalizad_word_dict[term] if term in normalizad_word_dict else term for term in document]\n",
    "\n",
    "dataSB['textdata_tokens_stemmed'] = dataSB['textdata_tokens_stemmed'].apply(normalized_term)\n",
    "\n",
    "dataSB['textdata_tokens_stemmed'].head(10)"
   ]
  },
  {
   "cell_type": "markdown",
   "metadata": {},
   "source": [
    "# stopwords again"
   ]
  },
  {
   "cell_type": "code",
   "execution_count": 15,
   "metadata": {},
   "outputs": [
    {
     "name": "stdout",
     "output_type": "stream",
     "text": [
      "0    [editor, note, opinion, articl, author, publis...\n",
      "1    [took, remark, bounc, past, month, accomplish,...\n",
      "2    [subscrib, account, activ, sinc, free, subscri...\n",
      "3    [subscrib, account, activ, sinc, free, subscri...\n",
      "4    [subscrib, account, activ, sinc, free, subscri...\n",
      "Name: textdata_tokens_stemmed, dtype: object\n"
     ]
    }
   ],
   "source": [
    "from nltk.corpus import stopwords\n",
    "\n",
    "# ----------------------- get stopword from NLTK stopword -------------------------------\n",
    "# get stopword indonesia\n",
    "list_stopwords = stopwords.words('english')\n",
    "\n",
    "\n",
    "# ---------------------------- manualy add stopword  ------------------------------------\n",
    "# append additional stopword\n",
    "list_stopwords.extend(['from', 'subject', 're', 'edu', 'use', 'business', 'trend', 'company', 'new', 'said', 'percent',\n",
    "                       'economy', 'econom', 'economi', 'trump', 'per', 'cent',\n",
    "                       'would', 'could', 'also', 'dont',\n",
    "                       'mani', 'cnbc', 'get', 'make', 'million',\n",
    "                       'help',\n",
    "                       'like', 'year', 'mr', 'work'])\n",
    "\n",
    "# convert list to dictionary\n",
    "list_stopwords = set(list_stopwords)\n",
    "\n",
    "#remove stopword pada list token\n",
    "def stopwords_removal(words):\n",
    "    return [word for word in words if word not in list_stopwords]\n",
    "\n",
    "dataSB['textdata_tokens_stemmed'] = dataSB['textdata_tokens_stemmed'].apply(stopwords_removal) \n",
    "\n",
    "print(dataSB['textdata_tokens_stemmed'].head())"
   ]
  },
  {
   "cell_type": "code",
   "execution_count": 16,
   "metadata": {},
   "outputs": [
    {
     "data": {
      "text/plain": [
       "0      [editor, note, opinion, articl, author, publis...\n",
       "1      [took, remark, bounc, past, month, accomplish,...\n",
       "2      [subscrib, account, activ, sinc, free, subscri...\n",
       "3      [subscrib, account, activ, sinc, free, subscri...\n",
       "4      [subscrib, account, activ, sinc, free, subscri...\n",
       "                             ...                        \n",
       "995    [youv, hard, life, brink, retir, troubl, thing...\n",
       "996    [young, people, love, plant, nurseri, owner, w...\n",
       "997    [cultur, might, posit, brand, messag, might, p...\n",
       "998    [youv, hard, put, countless, hour, today, defi...\n",
       "999    [zhangy, juli, employe, harvest, tomato, intel...\n",
       "Name: textdata_tokens_stemmed, Length: 1000, dtype: object"
      ]
     },
     "execution_count": 16,
     "metadata": {},
     "output_type": "execute_result"
    }
   ],
   "source": [
    "doc_clean = dataSB['textdata_tokens_stemmed']\n",
    "doc_clean"
   ]
  },
  {
   "cell_type": "code",
   "execution_count": 17,
   "metadata": {},
   "outputs": [
    {
     "name": "stdout",
     "output_type": "stream",
     "text": [
      "Dictionary(23141 unique tokens: ['aboitiz', 'accept', 'accustom', 'action', 'activ']...)\n"
     ]
    }
   ],
   "source": [
    "import gensim\n",
    "from gensim import corpora\n",
    "\n",
    "dictionary = corpora.Dictionary(doc_clean)\n",
    "print(dictionary)\n",
    "\n",
    "doc_term_matrix = [dictionary.doc2bow(doc) for doc in doc_clean]"
   ]
  },
  {
   "cell_type": "markdown",
   "metadata": {},
   "source": [
    "# LDA model using gensim\n",
    "Proses topic modeling dengan LDA gensim"
   ]
  },
  {
   "cell_type": "code",
   "execution_count": 18,
   "metadata": {},
   "outputs": [],
   "source": [
    "# Creating the object for LDA model using gensim library\n",
    "Lda = gensim.models.ldamodel.LdaModel\n",
    "\n",
    "total_topics = 5 # jumlah topik yang akan di extract\n",
    "number_words = 12 # jumlah kata per topik"
   ]
  },
  {
   "cell_type": "markdown",
   "metadata": {},
   "source": [
    "# main topic extracted"
   ]
  },
  {
   "cell_type": "code",
   "execution_count": 19,
   "metadata": {},
   "outputs": [
    {
     "data": {
      "text/plain": [
       "[(0,\n",
       "  '0.007*\"people\" + 0.007*\"time\" + 0.006*\"need\" + 0.006*\"one\" + 0.006*\"employe\" + 0.006*\"organisation\" + 0.006*\"leader\" + 0.005*\"manag\" + 0.005*\"team\" + 0.005*\"way\" + 0.004*\"chang\" + 0.004*\"many\"'),\n",
       " (1,\n",
       "  '0.011*\"rate\" + 0.011*\"fed\" + 0.009*\"cnn\" + 0.007*\"market\" + 0.006*\"cut\" + 0.005*\"reserv\" + 0.005*\"jone\" + 0.005*\"bank\" + 0.005*\"dow\" + 0.005*\"updat\" + 0.005*\"time\" + 0.005*\"indic\"'),\n",
       " (2,\n",
       "  '0.010*\"customer\" + 0.007*\"innovation\" + 0.007*\"data\" + 0.006*\"strategi\" + 0.006*\"market\" + 0.006*\"product\" + 0.005*\"valu\" + 0.005*\"technology\" + 0.004*\"invest\" + 0.004*\"develop\" + 0.004*\"competit\" + 0.004*\"one\"'),\n",
       " (3,\n",
       "  '0.015*\"market\" + 0.008*\"growth\" + 0.007*\"industri\" + 0.006*\"report\" + 0.006*\"global\" + 0.005*\"product\" + 0.005*\"increas\" + 0.004*\"unit\" + 0.004*\"invest\" + 0.004*\"state\" + 0.004*\"bank\" + 0.004*\"stock\"'),\n",
       " (4,\n",
       "  '0.005*\"govern\" + 0.005*\"small\" + 0.004*\"worker\" + 0.004*\"pandem\" + 0.004*\"month\" + 0.004*\"people\" + 0.004*\"time\" + 0.004*\"need\" + 0.004*\"store\" + 0.004*\"loan\" + 0.004*\"many\" + 0.003*\"news\"')]"
      ]
     },
     "execution_count": 19,
     "metadata": {},
     "output_type": "execute_result"
    }
   ],
   "source": [
    "# Running and Trainign LDA model on the document term matrix.\n",
    "# mungkin agak lama\n",
    "lda_model = Lda(doc_term_matrix, num_topics=total_topics, id2word = dictionary, passes=50)\n",
    "\n",
    "lda_model.show_topics(num_topics=total_topics, num_words=number_words)"
   ]
  },
  {
   "cell_type": "code",
   "execution_count": 20,
   "metadata": {},
   "outputs": [
    {
     "name": "stdout",
     "output_type": "stream",
     "text": [
      "            word  topic_id  importance  word_count\n",
      "0         people         0    0.007332        2181\n",
      "1           time         0    0.006923        2483\n",
      "2           need         0    0.006284        2149\n",
      "3            one         0    0.006146        2148\n",
      "4        employe         0    0.006045        1600\n",
      "5   organisation         0    0.005632        1488\n",
      "6         leader         0    0.005584        1306\n",
      "7          manag         0    0.005084        1627\n",
      "8           team         0    0.004994        1169\n",
      "9            way         0    0.004747        1400\n",
      "10          rate         1    0.011320         930\n",
      "11           fed         1    0.011117         486\n",
      "12           cnn         1    0.008935         385\n",
      "13        market         1    0.006869        2686\n",
      "14           cut         1    0.005620         513\n",
      "15        reserv         1    0.005417         509\n",
      "16          jone         1    0.005193         239\n",
      "17          bank         1    0.005173         874\n",
      "18           dow         1    0.004985         223\n",
      "19         updat         1    0.004726         343\n",
      "20      customer         2    0.009506        1840\n",
      "21    innovation         2    0.007241        1098\n",
      "22          data         2    0.006966        1411\n",
      "23      strategi         2    0.005912         929\n",
      "24        market         2    0.005619        2686\n",
      "25       product         2    0.005584        1694\n",
      "26          valu         2    0.005487        1074\n",
      "27    technology         2    0.004613         896\n",
      "28        invest         2    0.004268        1139\n",
      "29       develop         2    0.004211        1282\n",
      "30        market         3    0.014936        2686\n",
      "31        growth         3    0.008380        1544\n",
      "32      industri         3    0.006884        1332\n",
      "33        report         3    0.005686        1041\n",
      "34        global         3    0.005630         958\n",
      "35       product         3    0.005219        1694\n",
      "36       increas         3    0.005086        1154\n",
      "37          unit         3    0.004208         801\n",
      "38        invest         3    0.003999        1139\n",
      "39         state         3    0.003774        1021\n",
      "40        govern         4    0.004680         939\n",
      "41         small         4    0.004607         803\n",
      "42        worker         4    0.004498         876\n",
      "43        pandem         4    0.004432         884\n",
      "44         month         4    0.004309         792\n",
      "45        people         4    0.004179        2181\n",
      "46          time         4    0.004007        2483\n",
      "47          need         4    0.003998        2149\n",
      "48         store         4    0.003894         466\n",
      "49          loan         4    0.003815         457\n"
     ]
    }
   ],
   "source": [
    "# Word Count of Topic Keywords\n",
    "\n",
    "from collections import Counter\n",
    "topics = lda_model.show_topics(formatted=False)\n",
    "data_flat = [w for w_list in doc_clean for w in w_list]\n",
    "counter = Counter(data_flat)\n",
    "\n",
    "out = []\n",
    "for i, topic in topics:\n",
    "    for word, weight in topic:\n",
    "        out.append([word, i , weight, counter[word]])\n",
    "\n",
    "df_imp_wcount = pd.DataFrame(out, columns=['word', 'topic_id', 'importance', 'word_count']) \n",
    "print(df_imp_wcount)"
   ]
  },
  {
   "cell_type": "code",
   "execution_count": 21,
   "metadata": {},
   "outputs": [],
   "source": [
    "#Dominant topic and its percentage contribution in each topic\n",
    "def format_topics_sentences(ldamodel=None, corpus=doc_term_matrix, texts=document):\n",
    "    # Init output\n",
    "    sent_topics_df = pd.DataFrame()\n",
    "\n",
    "    # Get main topic in each document\n",
    "    for i, row_list in enumerate(ldamodel[corpus]):\n",
    "        row = row_list[0] if ldamodel.per_word_topics else row_list            \n",
    "        # print(row)\n",
    "        row = sorted(row, key=lambda x: (x[1]), reverse=True)\n",
    "        # Get the Dominant topic, Perc Contribution and Keywords for each document\n",
    "        for j, (topic_num, prop_topic) in enumerate(row):\n",
    "            if j == 0:  # => dominant topic\n",
    "                wp = ldamodel.show_topic(topic_num)\n",
    "                topic_keywords = \", \".join([word for word, prop in wp])\n",
    "                sent_topics_df = sent_topics_df.append(pd.Series([int(topic_num), round(prop_topic,4), topic_keywords]), ignore_index=True)\n",
    "            else:\n",
    "                break\n",
    "    sent_topics_df.columns = ['Dominant_Topic', 'Perc_Contribution', 'Topic_Keywords']\n",
    "\n",
    "    # Add original text to the end of the output\n",
    "    contents = pd.Series(texts)\n",
    "    sent_topics_df = pd.concat([sent_topics_df, contents], axis=1)\n",
    "    return(sent_topics_df)"
   ]
  },
  {
   "cell_type": "code",
   "execution_count": 22,
   "metadata": {},
   "outputs": [
    {
     "name": "stdout",
     "output_type": "stream",
     "text": [
      "   Document_No  Dominant_Topic  Topic_Perc_Contrib  \\\n",
      "0            0             0.0              0.4354   \n",
      "1            1             4.0              0.5447   \n",
      "2            2             0.0              0.4876   \n",
      "3            3             3.0              0.8754   \n",
      "4            4             0.0              0.3819   \n",
      "5            5             2.0              0.4795   \n",
      "6            6             4.0              0.9953   \n",
      "7            7             4.0              0.6014   \n",
      "8            8             4.0              0.7630   \n",
      "9            9             1.0              0.6323   \n",
      "\n",
      "                                            Keywords  \\\n",
      "0  people, time, need, one, employe, organisation...   \n",
      "1  govern, small, worker, pandem, month, people, ...   \n",
      "2  people, time, need, one, employe, organisation...   \n",
      "3  market, growth, industri, report, global, prod...   \n",
      "4  people, time, need, one, employe, organisation...   \n",
      "5  customer, innovation, data, strategi, market, ...   \n",
      "6  govern, small, worker, pandem, month, people, ...   \n",
      "7  govern, small, worker, pandem, month, people, ...   \n",
      "8  govern, small, worker, pandem, month, people, ...   \n",
      "9  rate, fed, cnn, market, cut, reserv, jone, ban...   \n",
      "\n",
      "                                                Text  \n",
      "0  [editor, note, opinion, articl, author, publis...  \n",
      "1  [took, remark, bounc, past, month, accomplish,...  \n",
      "2  [subscrib, account, activ, sinc, free, subscri...  \n",
      "3  [subscrib, account, activ, sinc, free, subscri...  \n",
      "4  [subscrib, account, activ, sinc, free, subscri...  \n",
      "5  [book, base, idea, associ, labor, group, earli...  \n",
      "6  [ben, casselman, brandon, william, suppos, spe...  \n",
      "7  [keith, bradsher, elain, yu, russel, goldman, ...  \n",
      "8  [nelson, schwartz, gillian, friedman, american...  \n",
      "9  [earlier, proprietari, data, led, bold, predic...  \n"
     ]
    }
   ],
   "source": [
    "df_topic_sents_keywords = format_topics_sentences(ldamodel=lda_model, corpus=doc_term_matrix, texts=doc_clean)\n",
    "\n",
    "# Format\n",
    "df_dominant_topic = df_topic_sents_keywords.reset_index()\n",
    "df_dominant_topic.columns = ['Document_No', 'Dominant_Topic', 'Topic_Perc_Contrib', 'Keywords', 'Text']\n",
    "print(df_dominant_topic.head(10))"
   ]
  },
  {
   "cell_type": "markdown",
   "metadata": {},
   "source": [
    "# visualization package pyLDAvis"
   ]
  },
  {
   "cell_type": "code",
   "execution_count": 23,
   "metadata": {},
   "outputs": [],
   "source": [
    "import pyLDAvis.gensim\n",
    "import pickle \n",
    "import pyLDAvis\n",
    "# Visualize the topics\n",
    "pyLDAvis.enable_notebook()"
   ]
  },
  {
   "cell_type": "code",
   "execution_count": 24,
   "metadata": {},
   "outputs": [],
   "source": [
    "import os\n",
    "LDAvis_data_filepath = os.path.join('ldavis_'+filedata+'_'+str(total_topics))"
   ]
  },
  {
   "cell_type": "code",
   "execution_count": 25,
   "metadata": {},
   "outputs": [],
   "source": [
    "corpus = [dictionary.doc2bow(text) for text in doc_clean]"
   ]
  },
  {
   "cell_type": "code",
   "execution_count": 26,
   "metadata": {},
   "outputs": [],
   "source": [
    "# proses ini mungkin agak lama\n",
    "if 1 == 1:\n",
    "    LDAvis_prepared = pyLDAvis.gensim.prepare(lda_model, corpus, dictionary)\n",
    "    with open(LDAvis_data_filepath, 'wb') as f:\n",
    "        pickle.dump(LDAvis_prepared, f)"
   ]
  },
  {
   "cell_type": "code",
   "execution_count": 27,
   "metadata": {},
   "outputs": [],
   "source": [
    "# load the pre-prepared pyLDAvis data from disk\n",
    "with open(LDAvis_data_filepath, 'rb') as f:\n",
    "    LDAvis_prepared = pickle.load(f)"
   ]
  },
  {
   "cell_type": "code",
   "execution_count": 28,
   "metadata": {},
   "outputs": [],
   "source": [
    "# proses ini mungkin agak lama\n",
    "pyLDAvis.save_html(LDAvis_prepared, 'ldavis_'+filedata+'_'+str(total_topics) +'.html')"
   ]
  },
  {
   "cell_type": "code",
   "execution_count": 29,
   "metadata": {
    "scrolled": true
   },
   "outputs": [
    {
     "data": {
      "text/html": [
       "\n",
       "<link rel=\"stylesheet\" type=\"text/css\" href=\"https://cdn.rawgit.com/bmabey/pyLDAvis/files/ldavis.v1.0.0.css\">\n",
       "\n",
       "\n",
       "<div id=\"ldavis_el1271222898602716804400442700\"></div>\n",
       "<script type=\"text/javascript\">\n",
       "\n",
       "var ldavis_el1271222898602716804400442700_data = {\"mdsDat\": {\"x\": [0.10518119145770187, -0.01278986087119075, -0.03008596904669743, 0.09834031182584115, -0.160645673365655], \"y\": [0.0712664420254108, -0.12394112348152744, 0.05392243319482838, -0.029573863872613713, 0.02832611213390189], \"topics\": [1, 2, 3, 4, 5], \"cluster\": [1, 1, 1, 1, 1], \"Freq\": [40.42993927001953, 18.176984786987305, 17.65978240966797, 16.145185470581055, 7.588113307952881]}, \"tinfo\": {\"Term\": [\"market\", \"rate\", \"fed\", \"cnn\", \"customer\", \"innovation\", \"growth\", \"bank\", \"data\", \"reserv\", \"strategi\", \"cut\", \"industri\", \"valu\", \"stock\", \"state\", \"technology\", \"report\", \"feder\", \"trade\", \"updat\", \"global\", \"jone\", \"indic\", \"month\", \"dow\", \"polici\", \"presid\", \"price\", \"pandem\", \"emot\", \"coach\", \"burnout\", \"redistribut\", \"etf\", \"lipper\", \"refinitiv\", \"welch\", \"medit\", \"worklif\", \"cowork\", \"courag\", \"empathi\", \"deleg\", \"proactiv\", \"needtoknow\", \"workspac\", \"telehealth\", \"cultur\", \"golf\", \"clinician\", \"pixar\", \"compass\", \"harmoni\", \"alga\", \"csuit\", \"mentor\", \"brainstorm\", \"psychologist\", \"lego\", \"purpos\", \"ident\", \"mental\", \"youll\", \"workplac\", \"task\", \"passion\", \"leadership\", \"career\", \"leader\", \"team\", \"stress\", \"feel\", \"creativ\", \"youv\", \"motiv\", \"exercis\", \"habit\", \"feedback\", \"employe\", \"organisation\", \"behavior\", \"engag\", \"idea\", \"success\", \"people\", \"learn\", \"skill\", \"patient\", \"way\", \"often\", \"perform\", \"ask\", \"person\", \"experi\", \"manag\", \"need\", \"find\", \"time\", \"one\", \"chang\", \"differ\", \"take\", \"think\", \"member\", \"know\", \"creat\", \"focus\", \"import\", \"many\", \"even\", \"provid\", \"build\", \"want\", \"challeng\", \"customer\", \"may\", \"develop\", \"product\", \"usd\", \"overview\", \"uaw\", \"gm\", \"mncs\", \"trefi\", \"cagr\", \"arabia\", \"cramer\", \"lordstown\", \"opec\", \"nissan\", \"marketwatch\", \"unsubscrib\", \"footer\", \"ideawatch\", \"jessa\", \"comtex\", \"barrel\", \"lowerti\", \"shall\", \"comtext\", \"barra\", \"marketrel\", \"pvt\", \"chrysler\", \"gamif\", \"apac\", \"maharashtra\", \"luckin\", \"china\", \"automak\", \"saudi\", \"password\", \"bitcoin\", \"iran\", \"oil\", \"forecast\", \"export\", \"wire\", \"motor\", \"vehicl\", \"analysi\", \"chines\", \"region\", \"plant\", \"market\", \"analyst\", \"auto\", \"size\", \"union\", \"north\", \"fortun\", \"growth\", \"global\", \"stock\", \"carbon\", \"report\", \"industri\", \"japan\", \"supplier\", \"unit\", \"countri\", \"insight\", \"increas\", \"rise\", \"price\", \"impact\", \"bank\", \"america\", \"product\", \"state\", \"invest\", \"world\", \"share\", \"billion\", \"trade\", \"covid\", \"across\", \"technology\", \"data\", \"oper\", \"service\", \"govern\", \"develop\", \"includ\", \"login\", \"sph\", \"pdfs\", \"apologis\", \"regn\", \"riku\", \"rm\", \"sofi\", \"lessin\", \"mall\", \"condom\", \"hostel\", \"manpow\", \"retrench\", \"kenko\", \"inconveni\", \"starhub\", \"chan\", \"gent\", \"strait\", \"landlord\", \"hawker\", \"soulcycl\", \"wework\", \"airbus\", \"ppp\", \"kangtai\", \"downtown\", \"chou\", \"waiv\", \"copyright\", \"paycheck\", \"restaur\", \"mas\", \"furlough\", \"tourism\", \"co\", \"los\", \"ms\", \"relief\", \"log\", \"vaccin\", \"closur\", \"store\", \"loan\", \"reopen\", \"st\", \"rent\", \"airlin\", \"virus\", \"subscrib\", \"smes\", \"citi\", \"small\", \"local\", \"month\", \"receiv\", \"worker\", \"govern\", \"pandem\", \"news\", \"still\", \"coronavirus\", \"last\", \"travel\", \"owner\", \"week\", \"pay\", \"close\", \"employ\", \"state\", \"money\", \"job\", \"billion\", \"go\", \"digital\", \"people\", \"need\", \"many\", \"time\", \"program\", \"support\", \"one\", \"includ\", \"eap\", \"bestofbre\", \"incumb\", \"nokia\", \"api\", \"huffpost\", \"bloomthat\", \"buzzfe\", \"wfh\", \"dataen\", \"machinelearn\", \"thirdparti\", \"bolsonaro\", \"peretti\", \"mare\", \"epistem\", \"michelin\", \"amish\", \"sadun\", \"bumiputera\", \"cann\", \"hurst\", \"peza\", \"bundl\", \"valuecaptur\", \"bladow\", \"fis\", \"flynn\", \"actor\", \"bpos\", \"algorithm\", \"datadriven\", \"crowdfund\", \"surveil\", \"microsoft\", \"esg\", \"user\", \"payout\", \"capitalist\", \"rd\", \"competitor\", \"zoom\", \"innovation\", \"ecosystem\", \"sharehold\", \"strategi\", \"competit\", \"platform\", \"customer\", \"data\", \"facebook\", \"valu\", \"advantag\", \"technology\", \"model\", \"applic\", \"googl\", \"startup\", \"firm\", \"power\", \"analyt\", \"product\", \"invest\", \"develop\", \"media\", \"exampl\", \"profit\", \"market\", \"service\", \"creat\", \"social\", \"digital\", \"offer\", \"one\", \"need\", \"manag\", \"public\", \"many\", \"industri\", \"provid\", \"time\", \"growth\", \"cnn\", \"powel\", \"hkt\", \"gmt\", \"opco\", \"mercantil\", \"fed\", \"jerom\", \"chartreus\", \"rico\", \"et\", \"djia\", \"dji\", \"licensor\", \"bat\", \"trademark\", \"dow\", \"mill\", \"puerto\", \"yellen\", \"shisha\", \"smallblock\", \"cnns\", \"monk\", \"progeni\", \"liqueur\", \"moviepass\", \"morningstar\", \"jone\", \"nordlicht\", \"bullard\", \"inflat\", \"maria\", \"smialek\", \"jeanna\", \"businessth\", \"hurrican\", \"disclaim\", \"zuckerberg\", \"rate\", \"updat\", \"indic\", \"central\", \"monetari\", \"cut\", \"sp\", \"llc\", \"reserv\", \"offici\", \"polici\", \"feder\", \"presid\", \"trade\", \"inc\", \"bank\", \"war\", \"interest\", \"unemploy\", \"market\", \"stock\", \"state\", \"time\", \"right\", \"growth\", \"expect\", \"data\"], \"Freq\": [2527.0, 857.0, 436.0, 345.0, 1773.0, 1057.0, 1457.0, 816.0, 1345.0, 476.0, 895.0, 476.0, 1265.0, 1035.0, 534.0, 962.0, 857.0, 981.0, 392.0, 520.0, 317.0, 903.0, 215.0, 313.0, 754.0, 200.0, 416.0, 388.0, 632.0, 847.0, 146.36898803710938, 200.29615783691406, 76.72952270507812, 97.86351776123047, 101.7121353149414, 94.88908386230469, 94.87799835205078, 58.060691833496094, 54.1524772644043, 50.22286605834961, 54.0228157043457, 45.31454849243164, 45.242431640625, 39.416629791259766, 55.72398376464844, 45.142333984375, 35.50045394897461, 39.30746078491211, 618.581787109375, 30.538843154907227, 28.626550674438477, 27.654863357543945, 56.27946090698242, 27.636329650878906, 27.61867904663086, 27.60285186767578, 70.41230773925781, 30.410663604736328, 24.69649887084961, 24.690200805664062, 311.19500732421875, 135.6529541015625, 114.98641204833984, 157.12673950195312, 185.11033630371094, 241.3276824951172, 153.28392028808594, 417.5585021972656, 254.8955078125, 1147.6480712890625, 1026.2838134765625, 172.64279174804688, 530.6159057617188, 222.59451293945312, 175.2702178955078, 207.68601989746094, 142.18084716796875, 150.8588409423828, 170.17709350585938, 1242.4490966796875, 1157.5518798828125, 324.22210693359375, 454.4266662597656, 432.5547180175781, 770.9999389648438, 1506.97998046875, 597.8346557617188, 339.4626159667969, 234.94143676757812, 975.6673583984375, 521.4738159179688, 482.237548828125, 456.9214782714844, 516.1746215820312, 590.3302612304688, 1044.892822265625, 1291.443115234375, 549.248291015625, 1422.8004150390625, 1263.2103271484375, 838.5902099609375, 531.119384765625, 778.5986938476562, 548.7874755859375, 428.2663879394531, 456.5737609863281, 700.6016235351562, 568.7905883789062, 536.8703002929688, 808.6149291992188, 661.5480346679688, 624.6969604492188, 538.72216796875, 528.763916015625, 536.5823974609375, 612.4036865234375, 550.1141357421875, 555.40283203125, 537.4786987304688, 78.63746643066406, 58.98202896118164, 47.81355667114258, 192.0545654296875, 45.936214447021484, 39.407936096191406, 38.472320556640625, 35.640689849853516, 34.72256851196289, 32.86817932128906, 32.8596305847168, 32.86087417602539, 31.910654067993164, 30.984609603881836, 30.984609603881836, 30.984596252441406, 30.06580924987793, 29.133512496948242, 31.820764541625977, 29.12160301208496, 29.115367889404297, 28.199371337890625, 27.262535095214844, 25.396963119506836, 25.3969669342041, 25.391515731811523, 24.36736297607422, 26.216379165649414, 22.591617584228516, 22.561153411865234, 160.66444396972656, 60.499061584472656, 59.83631134033203, 60.66660690307617, 49.296817779541016, 36.52615737915039, 198.67713928222656, 173.72598266601562, 92.60841369628906, 63.53549575805664, 60.919132232666016, 124.04655456542969, 262.97271728515625, 203.05357360839844, 265.9476623535156, 194.4344940185547, 1380.1519775390625, 165.88087463378906, 60.859500885009766, 169.6003875732422, 172.61221313476562, 129.5348663330078, 158.85498046875, 774.29931640625, 520.1776733398438, 335.11029052734375, 84.27069091796875, 525.4052124023438, 636.0917358398438, 118.03311157226562, 135.30130004882812, 388.84222412109375, 318.1065368652344, 225.95045471191406, 469.9957580566406, 205.4001007080078, 309.0868225097656, 325.66949462890625, 337.2565612792969, 166.396728515625, 482.2510681152344, 348.74884033203125, 369.55560302734375, 329.82659912109375, 325.53424072265625, 274.3312072753906, 244.1405487060547, 250.2086639404297, 242.45851135253906, 253.7267608642578, 270.6562194824219, 242.8381805419922, 251.587890625, 238.5911865234375, 246.74717712402344, 234.80307006835938, 193.3707275390625, 126.09516143798828, 96.29573059082031, 96.29556274414062, 96.29553985595703, 39.59027099609375, 38.62885665893555, 34.78157424926758, 33.819122314453125, 34.63886642456055, 30.925777435302734, 30.921363830566406, 29.9633731842041, 29.016563415527344, 28.05493927001953, 98.11654663085938, 25.17303466796875, 27.889114379882812, 23.25204849243164, 52.99054718017578, 46.41522979736328, 21.327068328857422, 21.3171329498291, 21.319021224975586, 23.17013931274414, 21.30371856689453, 20.3640079498291, 20.31890106201172, 19.405649185180664, 19.39468765258789, 102.63726043701172, 44.91175842285156, 240.62826538085938, 32.82234573364258, 38.057212829589844, 82.70744323730469, 109.97381591796875, 30.91244888305664, 247.01605224609375, 92.78118896484375, 104.71330261230469, 105.74114227294922, 51.22893142700195, 349.6135559082031, 342.4976806640625, 96.34410858154297, 135.95713806152344, 70.6478500366211, 110.50984191894531, 95.6773452758789, 246.6697998046875, 69.42704772949219, 191.87652587890625, 413.60418701171875, 243.0333251953125, 386.8668518066406, 205.38134765625, 403.8295593261719, 420.16656494140625, 397.8459167480469, 313.6865539550781, 299.3659973144531, 217.86245727539062, 311.2502746582031, 179.1693878173828, 187.25277709960938, 249.4346923828125, 221.0143280029297, 213.6319122314453, 203.2326202392578, 290.8386535644531, 214.2649383544922, 278.3188171386719, 239.75315856933594, 276.421142578125, 259.3500061035156, 375.1231689453125, 358.9063415527344, 322.11529541015625, 359.75115966796875, 227.88194274902344, 237.04885864257812, 267.3441162109375, 224.1958770751953, 44.17991256713867, 39.42048263549805, 39.408267974853516, 34.57232666015625, 44.60449981689453, 25.04815101623535, 23.139127731323242, 24.045795440673828, 22.184667587280273, 20.27029800415039, 19.278310775756836, 18.357830047607422, 18.355070114135742, 17.403379440307617, 17.398326873779297, 15.492941856384277, 18.122766494750977, 14.532546043395996, 16.318082809448242, 13.57640266418457, 13.574780464172363, 13.575470924377441, 13.5709867477417, 46.95027542114258, 12.622503280639648, 12.611295700073242, 12.582777976989746, 11.658546447753906, 33.06447219848633, 10.69970417022705, 39.042579650878906, 42.915409088134766, 31.549293518066406, 52.15076446533203, 92.3257827758789, 89.10664367675781, 199.76455688476562, 51.000606536865234, 34.67090606689453, 53.45764923095703, 131.09539794921875, 83.18167877197266, 594.28466796875, 140.27110290527344, 133.81460571289062, 485.2331848144531, 320.7591857910156, 218.69851684570312, 780.2008056640625, 571.7106323242188, 147.6244659423828, 450.374755859375, 152.057373046875, 378.56787109375, 300.5964660644531, 148.16354370117188, 130.5735626220703, 168.2232208251953, 314.45440673828125, 276.0838623046875, 134.46937561035156, 458.2812194824219, 350.2691650390625, 345.64752197265625, 163.8211669921875, 235.57669067382812, 193.20236206054688, 461.17864990234375, 295.4618225097656, 291.2911682128906, 231.72616577148438, 235.35623168945312, 231.28436279296875, 317.1490478515625, 297.3609313964844, 262.93634033203125, 182.224609375, 248.40869140625, 229.8935089111328, 206.11363220214844, 225.0846405029297, 198.62908935546875, 344.6442565917969, 169.28282165527344, 165.70846557617188, 165.70843505859375, 52.0628662109375, 52.90693664550781, 428.8233947753906, 34.1473503112793, 33.27869415283203, 35.8483772277832, 28.788028717041016, 27.008869171142578, 26.11556625366211, 26.115501403808594, 26.115478515625, 78.19684600830078, 192.29641723632812, 19.66698455810547, 43.62321090698242, 18.7650089263916, 13.587491989135742, 11.805237770080566, 11.803925514221191, 11.803360939025879, 11.79269027709961, 10.908549308776855, 10.907747268676758, 53.435691833496094, 200.30538940429688, 10.016823768615723, 10.016944885253906, 158.7666015625, 25.565006256103516, 25.426729202270508, 24.594501495361328, 18.033750534057617, 54.040592193603516, 28.24195098876953, 34.33272933959961, 436.64459228515625, 182.31552124023438, 177.45535278320312, 146.09976196289062, 55.0029182434082, 216.7918701171875, 125.45833587646484, 132.1278839111328, 208.9612579345703, 120.89884948730469, 175.27610778808594, 168.1183319091797, 154.6283416748047, 163.80239868164062, 79.61166381835938, 199.55886840820312, 77.8752670288086, 138.00643920898438, 93.08014678955078, 264.9701232910156, 134.95965576171875, 157.14645385742188, 177.70118713378906, 128.35879516601562, 140.16966247558594, 117.3310546875, 118.44405364990234], \"Total\": [2527.0, 857.0, 436.0, 345.0, 1773.0, 1057.0, 1457.0, 816.0, 1345.0, 476.0, 895.0, 476.0, 1265.0, 1035.0, 534.0, 962.0, 857.0, 981.0, 392.0, 520.0, 317.0, 903.0, 215.0, 313.0, 754.0, 200.0, 416.0, 388.0, 632.0, 847.0, 147.1652374267578, 202.03555297851562, 77.48159790039062, 99.05669403076172, 102.97300720214844, 96.11182403564453, 96.1115493774414, 58.81787109375, 54.90413284301758, 50.97591781616211, 54.89104080200195, 46.067501068115234, 46.057674407958984, 40.173336029052734, 56.84288024902344, 46.05954360961914, 36.25260925292969, 40.16466522216797, 632.6825561523438, 31.31937026977539, 29.379425048828125, 28.404613494873047, 57.81318283081055, 28.394174575805664, 28.384979248046875, 28.380563735961914, 72.52361297607422, 31.329248428344727, 25.4514102935791, 25.446937561035156, 322.4917907714844, 140.1531982421875, 118.63204193115234, 162.69827270507812, 192.10769653320312, 251.71200561523438, 159.77920532226562, 447.6040954589844, 271.4671936035156, 1277.7330322265625, 1143.905517578125, 183.1378936767578, 583.800048828125, 240.9362335205078, 189.49078369140625, 227.11827087402344, 152.80120849609375, 163.3473358154297, 185.86183166503906, 1562.55615234375, 1450.537841796875, 372.5611877441406, 544.1935424804688, 517.5272827148438, 997.6339111328125, 2123.8173828125, 759.8372802734375, 402.61724853515625, 266.8030700683594, 1360.632568359375, 663.8521728515625, 610.43408203125, 574.2547607421875, 670.416015625, 792.2020263671875, 1580.4122314453125, 2085.80517578125, 740.0756225585938, 2396.831787109375, 2079.427001953125, 1283.442138671875, 733.7155151367188, 1238.6756591796875, 776.6076049804688, 553.7385864257812, 606.8978881835938, 1137.832763671875, 842.281005859375, 776.073486328125, 1555.80224609375, 1190.1512451171875, 1203.43310546875, 845.0159912109375, 827.7747802734375, 886.3623657226562, 1773.072265625, 1100.138671875, 1233.9134521484375, 1620.8236083984375, 79.3983383178711, 59.77436065673828, 48.573387145996094, 195.121826171875, 46.69768142700195, 40.16719436645508, 39.23223114013672, 36.41058349609375, 35.48766326904297, 33.62767028808594, 33.624267578125, 33.62589645385742, 32.682918548583984, 31.74797248840332, 31.74797248840332, 31.74797248840332, 30.825363159179688, 29.892501831054688, 32.652320861816406, 29.88308334350586, 29.883689880371094, 28.958362579345703, 28.022287368774414, 26.155946731567383, 26.155948638916016, 26.152681350708008, 25.158143997192383, 27.08482551574707, 23.351619720458984, 23.338136672973633, 167.102294921875, 62.59942626953125, 62.48727035522461, 64.502197265625, 52.34860610961914, 38.308998107910156, 228.58665466308594, 200.01837158203125, 103.42719268798828, 69.08108520507812, 66.17106628417969, 143.41995239257812, 339.228271484375, 259.4493713378906, 356.1888732910156, 257.2159118652344, 2527.658935546875, 218.9617156982422, 68.95816040039062, 227.70640563964844, 234.56932067871094, 168.05442810058594, 214.18568420410156, 1457.646484375, 903.9940795898438, 534.7403564453125, 102.02008819580078, 981.8887329101562, 1265.140380859375, 155.3718719482422, 186.56349182128906, 754.408447265625, 586.431396484375, 378.3471984863281, 1095.0272216796875, 346.59552001953125, 632.03076171875, 719.3607788085938, 816.7921142578125, 264.36669921875, 1620.8236083984375, 962.3369140625, 1084.95849609375, 887.6742553710938, 934.3678588867188, 663.3540649414062, 520.01025390625, 587.69580078125, 566.493896484375, 857.598388671875, 1345.1826171875, 889.6605224609375, 1127.4305419921875, 893.0291137695312, 1233.9134521484375, 938.7448120117188, 194.1438751220703, 126.85688018798828, 97.05683135986328, 97.05680084228516, 97.05680847167969, 40.344459533691406, 39.38511276245117, 35.5370979309082, 34.57463073730469, 35.462520599365234, 31.684432983398438, 31.692041397094727, 30.72249412536621, 29.771364212036133, 28.80911636352539, 100.9132080078125, 25.92703628540039, 28.7863826751709, 24.00560188293457, 54.72102737426758, 48.02597427368164, 22.08124351501465, 22.07302474975586, 22.075836181640625, 23.994417190551758, 22.06687355041504, 21.118547439575195, 21.1016788482666, 20.159523010253906, 20.154598236083984, 107.59754180908203, 47.013668060302734, 262.8973083496094, 34.53411102294922, 40.26357650756836, 90.9939956665039, 123.71015167236328, 32.60573959350586, 292.0286865234375, 103.83909606933594, 118.2350845336914, 120.87651824951172, 55.60916519165039, 447.550048828125, 438.20782470703125, 111.65328216552734, 167.08926391601562, 80.6548080444336, 139.91615295410156, 118.55735778808594, 378.5179138183594, 83.25755310058594, 296.7782897949219, 776.3413696289062, 404.7497863769531, 754.6283569335938, 333.5829772949219, 838.8778076171875, 893.0291137695312, 847.6278076171875, 642.7635498046875, 642.4086303710938, 413.0778503417969, 750.7005615234375, 306.27740478515625, 339.905517578125, 587.6286010742188, 499.5212707519531, 472.7783508300781, 435.8310546875, 962.3369140625, 509.71014404296875, 913.4840698242188, 663.3540649414062, 910.0819091796875, 814.4232788085938, 2123.8173828125, 2085.80517578125, 1555.80224609375, 2396.831787109375, 623.2212524414062, 891.94677734375, 2079.427001953125, 938.7448120117188, 44.939361572265625, 40.174983978271484, 40.167877197265625, 35.35733413696289, 45.88927459716797, 25.808469772338867, 23.896757125854492, 24.84779930114746, 22.94148826599121, 21.02978515625, 20.067869186401367, 19.11547088623047, 19.113988876342773, 18.159446716308594, 18.154626846313477, 16.247648239135742, 19.047636032104492, 15.28848648071289, 17.202713012695312, 14.33190631866455, 14.330390930175781, 14.33141040802002, 14.327821731567383, 49.672569274902344, 13.377007484436035, 13.36892318725586, 13.35302448272705, 12.41647720336914, 35.38906478881836, 11.456550598144531, 42.116943359375, 46.77518081665039, 34.42036056518555, 58.21302032470703, 112.6358413696289, 109.14098358154297, 268.076416015625, 61.23274230957031, 40.20376205444336, 65.89656066894531, 182.4902801513672, 110.22039031982422, 1057.14892578125, 204.74961853027344, 195.62258911132812, 895.3297119140625, 593.6350708007812, 375.3090515136719, 1773.072265625, 1345.1826171875, 247.72386169433594, 1035.6563720703125, 262.9790954589844, 857.598388671875, 648.6803588867188, 260.93743896484375, 220.48065185546875, 337.3124694824219, 826.0291748046875, 718.4546508789062, 250.4062042236328, 1620.8236083984375, 1084.95849609375, 1233.9134521484375, 380.74383544921875, 728.1272583007812, 526.994873046875, 2527.658935546875, 1127.4305419921875, 1137.832763671875, 773.779052734375, 814.4232788085938, 820.9004516601562, 2079.427001953125, 2085.80517578125, 1580.4122314453125, 513.1409301757812, 1555.80224609375, 1265.140380859375, 1203.43310546875, 2396.831787109375, 1457.646484375, 345.4305725097656, 170.05364990234375, 166.4771728515625, 166.47714233398438, 52.83537673950195, 53.725460052490234, 436.2508544921875, 34.93143844604492, 34.046451568603516, 36.72554016113281, 29.56565284729004, 27.780290603637695, 26.885944366455078, 26.885948181152344, 26.885950088500977, 81.615966796875, 200.8379669189453, 20.60334587097168, 45.71648406982422, 19.719730377197266, 14.357452392578125, 12.572383880615234, 12.571645736694336, 12.57107925415039, 12.563627243041992, 11.676261901855469, 11.676025390625, 57.436363220214844, 215.40557861328125, 10.783679008483887, 10.783808708190918, 176.2170867919922, 27.87108039855957, 27.824962615966797, 26.92670440673828, 19.750978469848633, 65.17341613769531, 32.37538146972656, 42.548583984375, 857.5347290039062, 317.5481262207031, 313.95684814453125, 259.091552734375, 77.22480773925781, 476.8103942871094, 238.2130126953125, 255.55484008789062, 476.37091064453125, 235.99615478515625, 416.13763427734375, 392.396728515625, 388.83441162109375, 520.01025390625, 155.0598907470703, 816.7921142578125, 149.88247680664062, 473.86907958984375, 224.679443359375, 2527.658935546875, 534.7403564453125, 962.3369140625, 2396.831787109375, 911.5362548828125, 1457.646484375, 667.97314453125, 1345.1826171875], \"Category\": [\"Default\", \"Default\", \"Default\", \"Default\", \"Default\", \"Default\", \"Default\", \"Default\", \"Default\", \"Default\", \"Default\", \"Default\", \"Default\", \"Default\", \"Default\", \"Default\", \"Default\", \"Default\", \"Default\", \"Default\", \"Default\", \"Default\", \"Default\", \"Default\", \"Default\", \"Default\", \"Default\", \"Default\", \"Default\", \"Default\", \"Topic1\", \"Topic1\", \"Topic1\", \"Topic1\", \"Topic1\", \"Topic1\", \"Topic1\", \"Topic1\", \"Topic1\", \"Topic1\", \"Topic1\", \"Topic1\", \"Topic1\", \"Topic1\", \"Topic1\", \"Topic1\", \"Topic1\", \"Topic1\", \"Topic1\", \"Topic1\", \"Topic1\", \"Topic1\", \"Topic1\", \"Topic1\", \"Topic1\", \"Topic1\", \"Topic1\", \"Topic1\", \"Topic1\", \"Topic1\", \"Topic1\", \"Topic1\", \"Topic1\", \"Topic1\", \"Topic1\", \"Topic1\", \"Topic1\", \"Topic1\", \"Topic1\", \"Topic1\", \"Topic1\", \"Topic1\", \"Topic1\", \"Topic1\", \"Topic1\", \"Topic1\", \"Topic1\", \"Topic1\", \"Topic1\", \"Topic1\", \"Topic1\", \"Topic1\", \"Topic1\", \"Topic1\", \"Topic1\", \"Topic1\", \"Topic1\", \"Topic1\", \"Topic1\", \"Topic1\", \"Topic1\", \"Topic1\", \"Topic1\", \"Topic1\", \"Topic1\", \"Topic1\", \"Topic1\", \"Topic1\", \"Topic1\", \"Topic1\", \"Topic1\", \"Topic1\", \"Topic1\", \"Topic1\", \"Topic1\", \"Topic1\", \"Topic1\", \"Topic1\", \"Topic1\", \"Topic1\", \"Topic1\", \"Topic1\", \"Topic1\", \"Topic1\", \"Topic1\", \"Topic1\", \"Topic1\", \"Topic1\", \"Topic1\", \"Topic2\", \"Topic2\", \"Topic2\", \"Topic2\", \"Topic2\", \"Topic2\", \"Topic2\", \"Topic2\", \"Topic2\", \"Topic2\", \"Topic2\", \"Topic2\", \"Topic2\", \"Topic2\", \"Topic2\", \"Topic2\", \"Topic2\", \"Topic2\", \"Topic2\", \"Topic2\", \"Topic2\", \"Topic2\", \"Topic2\", \"Topic2\", \"Topic2\", \"Topic2\", \"Topic2\", \"Topic2\", \"Topic2\", \"Topic2\", \"Topic2\", \"Topic2\", \"Topic2\", \"Topic2\", \"Topic2\", \"Topic2\", \"Topic2\", \"Topic2\", \"Topic2\", \"Topic2\", \"Topic2\", \"Topic2\", \"Topic2\", \"Topic2\", \"Topic2\", \"Topic2\", \"Topic2\", \"Topic2\", \"Topic2\", \"Topic2\", \"Topic2\", \"Topic2\", \"Topic2\", \"Topic2\", \"Topic2\", \"Topic2\", \"Topic2\", \"Topic2\", \"Topic2\", \"Topic2\", \"Topic2\", \"Topic2\", \"Topic2\", \"Topic2\", \"Topic2\", \"Topic2\", \"Topic2\", \"Topic2\", \"Topic2\", \"Topic2\", \"Topic2\", \"Topic2\", \"Topic2\", \"Topic2\", \"Topic2\", \"Topic2\", \"Topic2\", \"Topic2\", \"Topic2\", \"Topic2\", \"Topic2\", \"Topic2\", \"Topic2\", \"Topic2\", \"Topic2\", \"Topic2\", \"Topic3\", \"Topic3\", \"Topic3\", \"Topic3\", \"Topic3\", \"Topic3\", \"Topic3\", \"Topic3\", \"Topic3\", \"Topic3\", \"Topic3\", \"Topic3\", \"Topic3\", \"Topic3\", \"Topic3\", \"Topic3\", \"Topic3\", \"Topic3\", \"Topic3\", \"Topic3\", \"Topic3\", \"Topic3\", \"Topic3\", \"Topic3\", \"Topic3\", \"Topic3\", \"Topic3\", \"Topic3\", \"Topic3\", \"Topic3\", \"Topic3\", \"Topic3\", \"Topic3\", \"Topic3\", \"Topic3\", \"Topic3\", \"Topic3\", \"Topic3\", \"Topic3\", \"Topic3\", \"Topic3\", \"Topic3\", \"Topic3\", \"Topic3\", \"Topic3\", \"Topic3\", \"Topic3\", \"Topic3\", \"Topic3\", \"Topic3\", \"Topic3\", \"Topic3\", \"Topic3\", \"Topic3\", \"Topic3\", \"Topic3\", \"Topic3\", \"Topic3\", \"Topic3\", \"Topic3\", \"Topic3\", \"Topic3\", \"Topic3\", \"Topic3\", \"Topic3\", \"Topic3\", \"Topic3\", \"Topic3\", \"Topic3\", \"Topic3\", \"Topic3\", \"Topic3\", \"Topic3\", \"Topic3\", \"Topic3\", \"Topic3\", \"Topic3\", \"Topic3\", \"Topic3\", \"Topic3\", \"Topic3\", \"Topic3\", \"Topic3\", \"Topic3\", \"Topic4\", \"Topic4\", \"Topic4\", \"Topic4\", \"Topic4\", \"Topic4\", \"Topic4\", \"Topic4\", \"Topic4\", \"Topic4\", \"Topic4\", \"Topic4\", \"Topic4\", \"Topic4\", \"Topic4\", \"Topic4\", \"Topic4\", \"Topic4\", \"Topic4\", \"Topic4\", \"Topic4\", \"Topic4\", \"Topic4\", \"Topic4\", \"Topic4\", \"Topic4\", \"Topic4\", \"Topic4\", \"Topic4\", \"Topic4\", \"Topic4\", \"Topic4\", \"Topic4\", \"Topic4\", \"Topic4\", \"Topic4\", \"Topic4\", \"Topic4\", \"Topic4\", \"Topic4\", \"Topic4\", \"Topic4\", \"Topic4\", \"Topic4\", \"Topic4\", \"Topic4\", \"Topic4\", \"Topic4\", \"Topic4\", \"Topic4\", \"Topic4\", \"Topic4\", \"Topic4\", \"Topic4\", \"Topic4\", \"Topic4\", \"Topic4\", \"Topic4\", \"Topic4\", \"Topic4\", \"Topic4\", \"Topic4\", \"Topic4\", \"Topic4\", \"Topic4\", \"Topic4\", \"Topic4\", \"Topic4\", \"Topic4\", \"Topic4\", \"Topic4\", \"Topic4\", \"Topic4\", \"Topic4\", \"Topic4\", \"Topic4\", \"Topic4\", \"Topic4\", \"Topic4\", \"Topic4\", \"Topic4\", \"Topic4\", \"Topic5\", \"Topic5\", \"Topic5\", \"Topic5\", \"Topic5\", \"Topic5\", \"Topic5\", \"Topic5\", \"Topic5\", \"Topic5\", \"Topic5\", \"Topic5\", \"Topic5\", \"Topic5\", \"Topic5\", \"Topic5\", \"Topic5\", \"Topic5\", \"Topic5\", \"Topic5\", \"Topic5\", \"Topic5\", \"Topic5\", \"Topic5\", \"Topic5\", \"Topic5\", \"Topic5\", \"Topic5\", \"Topic5\", \"Topic5\", \"Topic5\", \"Topic5\", \"Topic5\", \"Topic5\", \"Topic5\", \"Topic5\", \"Topic5\", \"Topic5\", \"Topic5\", \"Topic5\", \"Topic5\", \"Topic5\", \"Topic5\", \"Topic5\", \"Topic5\", \"Topic5\", \"Topic5\", \"Topic5\", \"Topic5\", \"Topic5\", \"Topic5\", \"Topic5\", \"Topic5\", \"Topic5\", \"Topic5\", \"Topic5\", \"Topic5\", \"Topic5\", \"Topic5\", \"Topic5\", \"Topic5\", \"Topic5\", \"Topic5\", \"Topic5\", \"Topic5\", \"Topic5\"], \"logprob\": [30.0, 29.0, 28.0, 27.0, 26.0, 25.0, 24.0, 23.0, 22.0, 21.0, 20.0, 19.0, 18.0, 17.0, 16.0, 15.0, 14.0, 13.0, 12.0, 11.0, 10.0, 9.0, 8.0, 7.0, 6.0, 5.0, 4.0, 3.0, 2.0, 1.0, -7.247200012207031, -6.933499813079834, -7.89300012588501, -7.649700164794922, -7.611199855804443, -7.680600166320801, -7.680699825286865, -8.171799659729004, -8.241499900817871, -8.316800117492676, -8.243900299072266, -8.419699668884277, -8.421299934387207, -8.559100151062012, -8.212900161743164, -8.423500061035156, -8.663800239562988, -8.56190013885498, -5.8059000968933105, -8.814299583435059, -8.878999710083008, -8.91349983215332, -8.20300006866455, -8.914199829101562, -8.914799690246582, -8.915399551391602, -7.978899955749512, -8.818499565124512, -9.026700019836426, -9.026900291442871, -6.4928998947143555, -7.323200225830078, -7.488500118255615, -7.176300048828125, -7.012400150299072, -6.747200012207031, -7.201000213623047, -6.19890022277832, -6.692500114440918, -5.18779993057251, -5.299600124359131, -7.082099914550781, -5.9593000411987305, -6.828000068664551, -7.066999912261963, -6.897299766540527, -7.276199817657471, -7.2170000076293945, -7.096499919891357, -5.108500003814697, -5.179299831390381, -6.451900005340576, -6.114299774169922, -6.163599967956543, -5.585599899291992, -4.915500164031982, -5.840000152587891, -6.406000137329102, -6.77400016784668, -5.350200176239014, -5.9766998291015625, -6.054900169372559, -6.108799934387207, -5.9868998527526855, -5.85260009765625, -5.281599998474121, -5.069799900054932, -5.924799919128418, -4.972899913787842, -5.091899871826172, -5.5015997886657715, -5.9583001136779785, -5.575799942016602, -5.925600051879883, -6.173600196838379, -6.109600067138672, -5.681399822235107, -5.889800071716309, -5.9475998878479, -5.538000106811523, -5.738699913024902, -5.796000003814697, -5.9440999031066895, -5.962800025939941, -5.9481000900268555, -5.815899848937988, -5.9232001304626465, -5.913599967956543, -5.946400165557861, -7.0690999031066895, -7.3566999435424805, -7.5665998458862305, -6.17609977722168, -7.606599807739258, -7.759900093078613, -7.783999919891357, -7.860400199890137, -7.886499881744385, -7.941400051116943, -7.941699981689453, -7.9415998458862305, -7.9710001945495605, -8.000399589538574, -8.000399589538574, -8.000399589538574, -8.030500411987305, -8.062000274658203, -7.973800182342529, -8.062399864196777, -8.062600135803223, -8.094599723815918, -8.128399848937988, -8.199299812316895, -8.199299812316895, -8.19950008392334, -8.240699768066406, -8.167499542236328, -8.316300392150879, -8.317700386047363, -6.354599952697754, -7.331299781799316, -7.342299938201904, -7.328499794006348, -7.535999774932861, -7.835899829864502, -6.142199993133545, -6.276400089263916, -6.9054999351501465, -7.282299995422363, -7.324399948120117, -6.6132001876831055, -5.8618998527526855, -6.1203999519348145, -5.850599765777588, -6.16379976272583, -4.203999996185303, -6.3225998878479, -7.325300216674805, -6.30049991607666, -6.282899856567383, -6.570000171661377, -6.365900039672852, -4.781899929046631, -5.179699897766113, -5.6194000244140625, -6.999899864196777, -5.1697001457214355, -4.978600025177002, -6.662899971008301, -6.526400089263916, -5.470699787139893, -5.671500205993652, -6.013599872589111, -5.281199932098389, -6.10890007019043, -5.700300216674805, -5.6479997634887695, -5.613100051879883, -6.319499969482422, -5.25540018081665, -5.579599857330322, -5.521599769592285, -5.635300159454346, -5.648399829864502, -5.8196001052856445, -5.936200141906738, -5.911600112915039, -5.9430999755859375, -5.897600173950195, -5.833099842071533, -5.941500186920166, -5.906099796295166, -5.959199905395508, -5.92549991607666, -5.975200176239014, -6.140399932861328, -6.567999839782715, -6.837600231170654, -6.837600231170654, -6.837600231170654, -7.726500034332275, -7.750999927520752, -7.855899810791016, -7.883999824523926, -7.860099792480469, -7.973400115966797, -7.973599910736084, -8.00510025024414, -8.037199974060059, -8.070899963378906, -6.818900108337402, -8.179300308227539, -8.076800346374512, -8.258600234985352, -7.434899806976318, -7.567399978637695, -8.345100402832031, -8.345499992370605, -8.345399856567383, -8.262200355529785, -8.346199989318848, -8.391300201416016, -8.393500328063965, -8.439499855041504, -8.4399995803833, -6.773799896240234, -7.600299835205078, -5.921800136566162, -7.913899898529053, -7.765900135040283, -6.989699840545654, -6.704800128936768, -7.973899841308594, -5.895599842071533, -6.874800205230713, -6.753799915313721, -6.74399995803833, -7.468699932098389, -5.5482001304626465, -5.56879997253418, -6.837100028991699, -6.492700099945068, -7.147299766540527, -6.699900150299072, -6.844099998474121, -5.896999835968018, -7.16480016708374, -6.148200035095215, -5.380099773406982, -5.911799907684326, -5.447000026702881, -6.0802001953125, -5.4039998054504395, -5.3643999099731445, -5.419000148773193, -5.656599998474121, -5.703400135040283, -6.021200180053711, -5.664400100708008, -6.216700077056885, -6.172599792480469, -5.885799884796143, -6.006800174713135, -6.040800094604492, -6.090700149536133, -5.7322998046875, -6.037799835205078, -5.776299953460693, -5.9253997802734375, -5.783100128173828, -5.84689998626709, -5.477799892425537, -5.521999835968018, -5.630099773406982, -5.519599914550781, -5.976200103759766, -5.936800003051758, -5.816500186920166, -5.992499828338623, -7.527100086212158, -7.64109992980957, -7.64139986038208, -7.772299766540527, -7.517499923706055, -8.094599723815918, -8.173800468444824, -8.13539981842041, -8.215999603271484, -8.30620002746582, -8.356399536132812, -8.40530014038086, -8.405500411987305, -8.458700180053711, -8.458999633789062, -8.574999809265137, -8.41819953918457, -8.638999938964844, -8.523099899291992, -8.706999778747559, -8.707200050354004, -8.707099914550781, -8.70740032196045, -7.466300010681152, -8.779899597167969, -8.780799865722656, -8.782999992370605, -8.859299659729004, -7.81689977645874, -8.945199966430664, -7.650700092315674, -7.556099891662598, -7.863800048828125, -7.361199855804443, -6.789999961853027, -6.825500011444092, -6.018199920654297, -7.383500099182129, -7.769499778747559, -7.33650016784668, -6.4394001960754395, -6.8942999839782715, -4.927999973297119, -6.371799945831299, -6.418900012969971, -5.13070011138916, -5.5447001457214355, -5.927700042724609, -4.655799865722656, -4.966700077056885, -6.320700168609619, -5.2052998542785645, -6.291100025177002, -5.379000186920166, -5.609600067138672, -6.3171000480651855, -6.443399906158447, -6.190100193023682, -5.564499855041504, -5.694699764251709, -6.414000034332275, -5.187900066375732, -5.456699848175049, -5.469900131225586, -6.216599941253662, -5.853300094604492, -6.051599979400635, -5.181600093841553, -5.626800060272217, -5.640999794006348, -5.869800090789795, -5.854300022125244, -5.871699810028076, -5.556000232696533, -5.6203999519348145, -5.743500232696533, -6.110099792480469, -5.800300121307373, -5.877799987792969, -5.9868998527526855, -5.898900032043457, -6.023900032043457, -4.717800140380859, -5.428800106048584, -5.450099945068359, -5.450099945068359, -6.607900142669678, -6.591800212860107, -4.499300003051758, -7.029600143432617, -7.0553998947143555, -6.980999946594238, -7.200399875640869, -7.264200210571289, -7.297800064086914, -7.297800064086914, -7.297800064086914, -6.201099872589111, -5.301300048828125, -7.581399917602539, -6.7846999168396, -7.628300189971924, -7.951200008392334, -8.09179973602295, -8.091899871826172, -8.091899871826172, -8.09280014038086, -8.17080020904541, -8.170900344848633, -6.5817999839782715, -5.260499954223633, -8.256099700927734, -8.256099700927734, -5.4928998947143555, -7.3190999031066895, -7.32450008392334, -7.357800006866455, -7.668099880218506, -6.5706000328063965, -7.2195000648498535, -7.024199962615967, -4.481200218200684, -5.354599952697754, -5.3815999031066895, -5.576000213623047, -6.5528998374938965, -5.181399822235107, -5.728400230407715, -5.676599979400635, -5.218200206756592, -5.765399932861328, -5.394000053405762, -5.435699939727783, -5.5192999839782715, -5.461699962615967, -6.183199882507324, -5.264200210571289, -6.2052001953125, -5.632999897003174, -6.026899814605713, -4.9807000160217285, -5.655399799346924, -5.503200054168701, -5.380199909210205, -5.70550012588501, -5.617499828338623, -5.795300006866455, -5.785900115966797], \"loglift\": [30.0, 29.0, 28.0, 27.0, 26.0, 25.0, 24.0, 23.0, 22.0, 21.0, 20.0, 19.0, 18.0, 17.0, 16.0, 15.0, 14.0, 13.0, 12.0, 11.0, 10.0, 9.0, 8.0, 7.0, 6.0, 5.0, 4.0, 3.0, 2.0, 1.0, 0.9002000093460083, 0.8970000147819519, 0.895799994468689, 0.8934999704360962, 0.8932999968528748, 0.892799973487854, 0.8927000164985657, 0.8925999999046326, 0.8917999863624573, 0.8906999826431274, 0.8896999955177307, 0.8891000151634216, 0.8877000212669373, 0.8866000175476074, 0.885699987411499, 0.8855000138282776, 0.8845999836921692, 0.8840000033378601, 0.8830999732017517, 0.8804000020027161, 0.8795999884605408, 0.8787999749183655, 0.8787000179290771, 0.8784999847412109, 0.8781999945640564, 0.8777999877929688, 0.8761000037193298, 0.8758000135421753, 0.8755000233650208, 0.8754000067710876, 0.8698999881744385, 0.8730000257492065, 0.8744000196456909, 0.8708000183105469, 0.8684999942779541, 0.8634999990463257, 0.8640999794006348, 0.8360999822616577, 0.8425999879837036, 0.7982000112533569, 0.7971000075340271, 0.8465999960899353, 0.8101000189781189, 0.8263999819755554, 0.8276000022888184, 0.8162000179290771, 0.8335999846458435, 0.8260999917984009, 0.8173999786376953, 0.6764000058174133, 0.6800000071525574, 0.7666000127792358, 0.7253000140190125, 0.7261999845504761, 0.6478999853134155, 0.5625, 0.6657999753952026, 0.7350000143051147, 0.7784000039100647, 0.5730000138282776, 0.6642000079154968, 0.6699000000953674, 0.6769999861717224, 0.64410001039505, 0.6115000247955322, 0.4918000102043152, 0.4262000024318695, 0.6074000000953674, 0.3840999901294708, 0.40720000863075256, 0.47999998927116394, 0.5824999809265137, 0.44130000472068787, 0.5583999752998352, 0.6486999988555908, 0.6209999918937683, 0.4207000136375427, 0.5130000114440918, 0.5371000170707703, 0.25119999051094055, 0.3183000087738037, 0.2498999983072281, 0.4553999900817871, 0.45739999413490295, 0.40369999408721924, -0.1574999988079071, 0.21250000596046448, 0.10729999840259552, -0.19820000231266022, 1.6953999996185303, 1.6916999816894531, 1.6892000436782837, 1.6892000436782837, 1.688599944114685, 1.6858999729156494, 1.6855000257492065, 1.6835999488830566, 1.6832000017166138, 1.6821999549865723, 1.6820000410079956, 1.6820000410079956, 1.6811000108718872, 1.6806999444961548, 1.6806999444961548, 1.6806999444961548, 1.6800999641418457, 1.6792999505996704, 1.6792000532150269, 1.6792000532150269, 1.6790000200271606, 1.6785000562667847, 1.6775000095367432, 1.6756000518798828, 1.6756000518798828, 1.6755000352859497, 1.6730999946594238, 1.6723999977111816, 1.6719000339508057, 1.6712000370025635, 1.6656999588012695, 1.6708999872207642, 1.6617000102996826, 1.6437000036239624, 1.6448999643325806, 1.6574000120162964, 1.5648000240325928, 1.5641000270843506, 1.594499945640564, 1.6212999820709229, 1.6223000288009644, 1.5599000453948975, 1.4503999948501587, 1.4599000215530396, 1.4128999710083008, 1.4251999855041504, 1.0999000072479248, 1.42739999294281, 1.5801000595092773, 1.4104000329971313, 1.398300051689148, 1.444700002670288, 1.4062000513076782, 1.0723999738693237, 1.152400016784668, 1.2376999855041504, 1.5139000415802002, 1.079699993133545, 1.0174000263214111, 1.4301999807357788, 1.3837000131607056, 1.0422999858856201, 1.0932999849319458, 1.1894999742507935, 0.8592000007629395, 1.1818000078201294, 0.9897000193595886, 0.9125000238418579, 0.8205000162124634, 1.2421000003814697, 0.4927999973297119, 0.6899999976158142, 0.628000020980835, 0.7149999737739563, 0.650600016117096, 0.8220000267028809, 0.9488999843597412, 0.8511000275611877, 0.8564000129699707, 0.4871000051498413, 0.10159999877214432, 0.4065999984741211, 0.20509999990463257, 0.38510000705718994, 0.09539999812841415, 0.3192000091075897, 1.7299000024795532, 1.7279000282287598, 1.7259999513626099, 1.7259999513626099, 1.7259999513626099, 1.715000033378601, 1.7144999504089355, 1.712399959564209, 1.7117999792099, 1.7103999853134155, 1.7095999717712402, 1.7093000411987305, 1.708899974822998, 1.7081999778747559, 1.7073999643325806, 1.7058000564575195, 1.7043999433517456, 1.7022000551223755, 1.7020000219345093, 1.70169997215271, 1.6998000144958496, 1.6991000175476074, 1.6990000009536743, 1.6990000009536743, 1.6988999843597412, 1.698699951171875, 1.6974999904632568, 1.6960999965667725, 1.6957999467849731, 1.6953999996185303, 1.6866999864578247, 1.688099980354309, 1.645400047302246, 1.6829999685287476, 1.6775000095367432, 1.6383999586105347, 1.6161999702453613, 1.6806000471115112, 1.566499948501587, 1.6212999820709229, 1.6124000549316406, 1.600100040435791, 1.6518000364303589, 1.486899971961975, 1.4874999523162842, 1.586400032043457, 1.5276999473571777, 1.6014000177383423, 1.4979000091552734, 1.5195000171661377, 1.3056999444961548, 1.5521999597549438, 1.297700047492981, 1.104200005531311, 1.2237999439239502, 1.0657000541687012, 1.248900055885315, 1.0027999877929688, 0.9799000024795532, 0.9775000214576721, 1.0164999961853027, 0.970300018787384, 1.094099998474121, 0.8535000085830688, 1.197700023651123, 1.1376999616622925, 0.8769999742507935, 0.9185000061988831, 0.9394999742507935, 0.9710000157356262, 0.5372999906539917, 0.8672999739646912, 0.5454000234603882, 0.7161999940872192, 0.5422999858856201, 0.5896000266075134, 0.00019999999494757503, -0.026000000536441803, 0.1589999943971634, -0.16259999573230743, 0.7278000116348267, 0.40869998931884766, -0.3174000084400177, 0.3018999993801117, 1.80649995803833, 1.8046000003814697, 1.8044999837875366, 1.8011000156402588, 1.795199990272522, 1.7935999631881714, 1.7913000583648682, 1.7906999588012695, 1.7899999618530273, 1.7868000268936157, 1.783400058746338, 1.7831000089645386, 1.7829999923706055, 1.781000018119812, 1.781000018119812, 1.7760000228881836, 1.773800015449524, 1.7727999687194824, 1.770799994468689, 1.7694000005722046, 1.7694000005722046, 1.7694000005722046, 1.7692999839782715, 1.767199993133545, 1.7654999494552612, 1.7652000188827515, 1.7640999555587769, 1.760599970817566, 1.7555999755859375, 1.7552000284194946, 1.7477999925613403, 1.7374000549316406, 1.7365000247955322, 1.7136000394821167, 1.6246999502182007, 1.6207000017166138, 1.5293999910354614, 1.6406999826431274, 1.6755000352859497, 1.614400029182434, 1.492799997329712, 1.542099952697754, 1.2475999593734741, 1.4452999830245972, 1.4437999725341797, 1.2109999656677246, 1.2079999446868896, 1.2834999561309814, 1.0025999546051025, 0.9678999781608582, 1.305899977684021, 0.9908000230789185, 1.2756999731063843, 1.0058000087738037, 1.0543999671936035, 1.257599949836731, 1.2997000217437744, 1.1277999877929688, 0.8578000068664551, 0.8672000169754028, 1.201799988746643, 0.5602999925613403, 0.6930000185966492, 0.5509999990463257, 0.9801999926567078, 0.6951000094413757, 0.8201000094413757, 0.12229999899864197, 0.4844000041484833, 0.460999995470047, 0.6177999973297119, 0.5821999907493591, 0.5568000078201294, -0.05689999833703041, -0.12439999729394913, 0.029999999329447746, 0.7882000207901001, -0.011099999770522118, 0.11819999665021896, 0.05900000035762787, -0.5418999791145325, -0.1695999950170517, 2.5762999057769775, 2.5739998817443848, 2.5739998817443848, 2.5739998817443848, 2.5638999938964844, 2.563199996948242, 2.5613999366760254, 2.5559000968933105, 2.555799961090088, 2.5543999671936035, 2.5518999099731445, 2.5504000186920166, 2.549499988555908, 2.549499988555908, 2.549499988555908, 2.535799980163574, 2.535099983215332, 2.532099962234497, 2.5316998958587646, 2.5290000438690186, 2.5234999656677246, 2.5155999660491943, 2.5155999660491943, 2.5155999660491943, 2.5153000354766846, 2.5106000900268555, 2.510499954223633, 2.5064001083374023, 2.5058999061584473, 2.5048000812530518, 2.5048000812530518, 2.474299907684326, 2.4921998977661133, 2.4885001182556152, 2.48799991607666, 2.487600088119507, 2.3912999629974365, 2.441999912261963, 2.364000082015991, 1.9035999774932861, 2.023699998855591, 2.0081000328063965, 2.00570011138916, 2.239300012588501, 1.7904000282287598, 1.937399983406067, 1.9189000129699707, 1.7545000314712524, 1.9097000360488892, 1.7138999700546265, 1.7309999465942383, 1.656499981880188, 1.4234000444412231, 1.9119000434875488, 1.1692999601364136, 1.923799991607666, 1.3450000286102295, 1.6973999738693237, 0.323199987411499, 1.201799988746643, 0.7663999795913696, -0.02319999970495701, 0.6183000206947327, 0.23690000176429749, 0.8392999768257141, 0.14869999885559082]}, \"token.table\": {\"Topic\": [1, 2, 3, 4, 5, 1, 4, 1, 2, 3, 4, 5, 3, 1, 2, 3, 4, 5, 1, 1, 4, 1, 2, 3, 4, 5, 4, 1, 2, 3, 4, 5, 1, 2, 3, 4, 5, 1, 2, 3, 4, 2, 2, 4, 3, 1, 2, 3, 4, 2, 1, 2, 3, 4, 5, 2, 4, 5, 2, 4, 1, 2, 3, 4, 5, 2, 2, 5, 1, 3, 4, 5, 4, 1, 2, 3, 4, 5, 2, 4, 4, 4, 4, 4, 1, 1, 2, 3, 4, 5, 5, 4, 2, 4, 1, 2, 5, 4, 2, 4, 1, 3, 4, 2, 3, 4, 5, 1, 3, 4, 1, 2, 3, 4, 5, 1, 2, 3, 4, 5, 3, 1, 2, 3, 4, 5, 5, 2, 4, 5, 1, 2, 3, 4, 5, 3, 2, 1, 2, 3, 4, 5, 1, 1, 2, 3, 4, 5, 1, 2, 3, 5, 5, 1, 2, 3, 4, 5, 1, 5, 1, 4, 1, 2, 3, 4, 5, 1, 2, 3, 4, 2, 2, 3, 1, 2, 3, 4, 1, 2, 3, 5, 1, 2, 3, 4, 5, 1, 1, 2, 3, 4, 5, 1, 2, 1, 2, 3, 4, 5, 1, 3, 4, 1, 3, 4, 1, 1, 2, 3, 4, 1, 2, 3, 4, 5, 1, 2, 3, 4, 5, 1, 2, 3, 4, 5, 2, 4, 4, 1, 1, 2, 3, 4, 5, 1, 2, 3, 4, 5, 1, 2, 3, 4, 2, 5, 5, 5, 2, 4, 5, 3, 4, 1, 2, 3, 4, 1, 1, 1, 2, 3, 4, 5, 1, 2, 3, 4, 1, 2, 3, 4, 4, 3, 4, 5, 1, 4, 1, 2, 3, 4, 5, 1, 2, 3, 4, 1, 3, 4, 1, 2, 3, 4, 5, 1, 2, 3, 4, 5, 2, 4, 5, 1, 2, 3, 4, 5, 1, 2, 5, 1, 2, 3, 4, 5, 1, 4, 5, 1, 2, 3, 4, 5, 1, 2, 3, 4, 5, 1, 2, 3, 4, 5, 4, 4, 1, 2, 3, 4, 5, 2, 1, 2, 3, 4, 5, 1, 2, 3, 4, 5, 2, 3, 4, 2, 3, 1, 2, 3, 4, 5, 2, 5, 5, 1, 2, 3, 4, 5, 1, 1, 2, 3, 4, 1, 2, 3, 4, 5, 1, 2, 3, 4, 5, 1, 2, 3, 4, 5, 1, 3, 5, 3, 4, 1, 2, 3, 5, 4, 1, 2, 3, 4, 5, 2, 1, 2, 3, 4, 1, 2, 3, 4, 5, 1, 2, 3, 4, 5, 1, 2, 3, 5, 1, 2, 3, 4, 5, 1, 3, 1, 2, 3, 4, 5, 4, 1, 2, 3, 4, 5, 1, 2, 3, 4, 5, 1, 2, 3, 5, 1, 2, 3, 4, 1, 2, 3, 4, 1, 2, 3, 4, 5, 1, 2, 3, 4, 5, 2, 3, 1, 2, 3, 5, 2, 5, 5, 2, 1, 2, 3, 4, 5, 2, 3, 5, 3, 3, 1, 2, 3, 4, 5, 3, 4, 1, 2, 3, 4, 5, 1, 2, 3, 4, 5, 1, 2, 4, 5, 1, 2, 3, 4, 5, 1, 3, 5, 1, 4, 5, 1, 2, 3, 4, 5, 1, 2, 3, 4, 5, 1, 2, 3, 4, 5, 1, 3, 4, 3, 2, 3, 4, 2, 2, 4, 2, 3, 1, 2, 3, 4, 5, 3, 1, 2, 3, 4, 5, 4, 3, 5, 1, 2, 3, 4, 5, 2, 2, 2, 3, 1, 2, 3, 4, 5, 1, 2, 3, 4, 5, 1, 1, 2, 3, 4, 5, 1, 3, 1, 4, 5, 4, 1, 2, 4, 5, 5, 2, 1, 2, 3, 4, 5, 2, 3, 4, 5, 1, 2, 3, 4, 5, 5, 1, 2, 3, 4, 5, 2, 4, 5, 1, 2, 4, 2, 4, 5, 5, 2, 3, 4, 5, 1, 2, 3, 4, 5, 1, 1, 2, 3, 4, 5, 2, 4, 5, 1, 2, 3, 4, 5, 1, 2, 3, 4, 5, 1, 2, 3, 4, 5, 1, 2, 3, 4, 5, 1, 2, 3, 5, 1, 2, 3, 4, 5, 5, 2, 1, 2, 3, 4, 5, 1, 2, 3, 4, 2, 1, 2, 3, 4, 1, 2, 3, 4, 5, 1, 3, 4, 2, 4, 1, 2, 4, 5, 1, 2, 3, 4, 5, 2, 3, 4, 2, 3, 4, 3, 1, 2, 3, 4, 5, 4, 1, 2, 3, 4, 5, 1, 2, 3, 4, 5, 4, 1, 1, 2, 3, 4, 5, 1, 2, 3, 4, 1, 2, 3, 4, 5, 5, 1, 2, 3, 4, 5, 3, 1, 2, 3, 4, 5, 1, 2, 3, 4, 5, 1, 3, 1, 2, 3, 4, 5, 1, 2, 3, 4, 5, 5, 1, 2, 3, 4, 5, 1, 2, 3, 4, 5, 1, 1, 2, 3, 4, 5, 2, 3, 5, 1, 2, 4, 2, 1, 2, 3, 4, 5, 1, 2, 4, 1, 2, 3, 4, 5, 1, 4, 1, 4, 1, 2, 3, 4, 5, 3, 1, 3, 4, 5, 3, 4, 1, 2, 3, 1, 2, 3, 4, 5, 1, 2, 3, 4, 5, 1, 2, 3, 4, 5, 3, 5, 1, 2, 3, 4, 5, 3, 1, 2, 3, 4, 5, 3, 4, 2, 5, 1, 2, 3, 4, 5, 2, 1, 2, 3, 4, 5, 1, 2, 3, 4, 5, 1, 2, 3, 4, 5, 1, 2, 3, 4, 1, 2, 3, 4, 5, 5, 2, 3, 4, 2, 5, 1, 2, 3, 4, 5, 3, 3, 2, 4, 5, 3, 1, 2, 3, 4, 5, 3, 1, 2, 3, 4, 5, 1, 2, 3, 4, 5, 1, 2, 3, 4, 5, 1, 2, 3, 4, 5, 1, 2, 3, 4, 5, 2, 3, 1, 2, 3, 4, 5, 1, 3, 5, 1, 3, 4, 5, 1, 2, 3, 4, 5, 1, 2, 3, 4, 1, 2, 3, 4, 5, 2, 4, 1, 2, 3, 4, 5, 1, 2, 4, 5, 1, 2, 3, 4, 5, 1, 2, 3, 4, 1, 1, 2, 3, 4, 5, 4, 1, 2, 3, 4, 5, 2, 3, 5, 1, 2, 3, 4, 5, 3, 4, 5, 1, 2, 3, 4, 5, 2, 2, 1, 2, 3, 5, 1, 2, 3, 4, 5, 1, 2, 3, 4, 5, 2, 1, 2, 3, 4, 5, 2, 1, 2, 3, 4, 5, 1, 2, 3, 1, 2, 3, 4, 5, 4, 1, 2, 3, 4, 1, 2, 3, 5, 3, 1, 2, 3, 4, 5, 1, 2, 3, 4, 5, 1, 2, 3, 4, 5, 1, 2, 3, 4, 5, 1, 3, 4, 1, 2, 5, 1, 2, 3, 4, 5, 1, 1, 2, 3, 4, 1, 1, 2, 3, 4, 5, 5, 1, 2, 3, 4, 1, 2, 3, 4, 5, 1, 2, 3, 4, 3, 4, 5], \"Freq\": [0.25242990255355835, 0.42718908190727234, 0.12886281311511993, 0.1676981896162033, 0.02118292823433876, 0.05651463195681572, 0.9324914216995239, 0.2775886058807373, 0.11788009107112885, 0.007605167105793953, 0.5779927372932434, 0.015210334211587906, 0.9585562944412231, 0.0142942750826478, 0.0285885501652956, 0.7933322787284851, 0.15008988976478577, 0.021441413089632988, 0.986437201499939, 0.07123024016618729, 0.9259931445121765, 0.09834824502468109, 0.6279156804084778, 0.17778335511684418, 0.026478372514247894, 0.06808724254369736, 0.9811304807662964, 0.06485308706760406, 0.7752891778945923, 0.017687205225229263, 0.12675830721855164, 0.014739337377250195, 0.013701025396585464, 0.7581233978271484, 0.02740205079317093, 0.07307213544845581, 0.12787623703479767, 0.1277923583984375, 0.33146142959594727, 0.003993511199951172, 0.535130500793457, 0.9599471092224121, 0.02179158478975296, 0.9806212782859802, 0.9891115427017212, 0.0651497170329094, 0.27592819929122925, 0.09197606891393661, 0.5671857595443726, 0.9887235164642334, 0.795814037322998, 0.05398301035165787, 0.07487966120243073, 0.04527607187628746, 0.029603585600852966, 0.8845943808555603, 0.04350464046001434, 0.07250773161649704, 0.9584752321243286, 0.03194917365908623, 0.03795335441827774, 0.4125896692276001, 0.22894442081451416, 0.07590670883655548, 0.24486035108566284, 0.9635187983512878, 0.9800221920013428, 0.9670478701591492, 0.8696557879447937, 0.005368245765566826, 0.11810140311717987, 0.005368245765566826, 0.9707533717155457, 0.031657300889492035, 0.41305240988731384, 0.3617977499961853, 0.16431647539138794, 0.030149811878800392, 0.9360325932502747, 0.03820541128516197, 0.972404420375824, 0.9624736905097961, 0.9417186379432678, 0.9601494073867798, 0.9575716257095337, 0.6378577351570129, 0.09585617482662201, 0.07100457698106766, 0.19171234965324402, 0.004733638372272253, 0.9273161292076111, 0.9768414497375488, 0.040263671427965164, 0.9461962580680847, 0.9937843680381775, 0.05063040181994438, 0.9113472700119019, 0.9658803343772888, 0.9685913324356079, 0.9769447445869446, 0.09949317574501038, 0.024873293936252594, 0.8705652952194214, 0.8233672380447388, 0.01960398256778717, 0.127425879240036, 0.029405973851680756, 0.9393399953842163, 0.05157160758972168, 0.007367372512817383, 0.16982413828372955, 0.12736810743808746, 0.07333315163850784, 0.06561387330293655, 0.5635073781013489, 0.6058470010757446, 0.18164128065109253, 0.0868719220161438, 0.11056426167488098, 0.015794893726706505, 0.9726821184158325, 0.6537107825279236, 0.13167715072631836, 0.027270415797829628, 0.14803940057754517, 0.038957737386226654, 0.969264030456543, 0.9634816646575928, 0.011968716979026794, 0.01795307546854019, 0.015417265705764294, 0.7824262380599976, 0.1271924525499344, 0.023125899955630302, 0.046251799911260605, 0.942482590675354, 0.955924928188324, 0.12804171442985535, 0.11456363648176193, 0.6469475626945496, 0.02695615030825138, 0.0842379704117775, 0.9870853424072266, 0.21997623145580292, 0.205170139670372, 0.45264339447021484, 0.06133952736854553, 0.06345468014478683, 0.017982646822929382, 0.05394794046878815, 0.9171150326728821, 0.998753547668457, 0.9545289874076843, 0.02425023354589939, 0.05658387765288353, 0.8891752362251282, 0.02425023354589939, 0.008083410561084747, 0.9899247884750366, 0.004949623718857765, 0.968637228012085, 0.01729709282517433, 0.18866810202598572, 0.23246605694293976, 0.03537526726722717, 0.5407362580299377, 0.003369073150679469, 0.20823027193546295, 0.05479744076728821, 0.016439231112599373, 0.7178464531898499, 0.9701429605484009, 0.9669054746627808, 0.9783984422683716, 0.027881678193807602, 0.009293892420828342, 0.9572709202766418, 0.009293892420828342, 0.15977618098258972, 0.2759770452976227, 0.5277455449104309, 0.03873362019658089, 0.07332485914230347, 0.5422629117965698, 0.22509026527404785, 0.11936604976654053, 0.04092550277709961, 0.9768274426460266, 0.2586372196674347, 0.4253901541233063, 0.3062809109687805, 0.0034031211398541927, 0.0051046814769506454, 0.9837670922279358, 0.9862582087516785, 0.6160835027694702, 0.08876524120569229, 0.02812364138662815, 0.25574934482574463, 0.0105463657528162, 0.9255561232566833, 0.012451427057385445, 0.06225713714957237, 0.029052572324872017, 0.029052572324872017, 0.9296823143959045, 0.9865906834602356, 0.9783737659454346, 0.001580571522936225, 0.00316114304587245, 0.017386285588145256, 0.34516358375549316, 0.11167057603597641, 0.10264669358730316, 0.43991437554359436, 0.0005639928276650608, 0.1048634871840477, 0.14471161365509033, 0.2265051305294037, 0.07130716741085052, 0.45510753989219666, 0.2557273507118225, 0.2014596313238144, 0.030479133129119873, 0.4252210855484009, 0.08772043138742447, 0.0641365796327591, 0.9192909598350525, 0.9510320425033569, 0.9707931876182556, 0.4497884213924408, 0.20017611980438232, 0.04619448632001877, 0.280408650636673, 0.02350245788693428, 0.723713755607605, 0.05042826384305954, 0.06405752152204514, 0.15401063859462738, 0.008177556097507477, 0.23820537328720093, 0.1534828394651413, 0.3180164396762848, 0.2885477542877197, 0.1235506683588028, 0.8648546934127808, 0.9670480489730835, 0.9719120860099792, 0.029874829575419426, 0.014937414787709713, 0.9559945464134216, 0.9477918744087219, 0.9790971279144287, 0.1221003532409668, 0.1367523968219757, 0.05372415482997894, 0.6837619543075562, 0.9920821189880371, 0.9770358800888062, 0.24091903865337372, 0.09866208583116531, 0.46577680110931396, 0.09636761993169785, 0.09866208583116531, 0.7948514223098755, 0.03967857360839844, 0.12607547640800476, 0.03903859853744507, 0.8342620134353638, 0.014700652100145817, 0.020213397219777107, 0.13046829402446747, 0.9232105612754822, 0.1740867644548416, 0.8154590129852295, 0.9808679223060608, 0.9905508756637573, 0.009711283259093761, 0.5562317967414856, 0.07057926803827286, 0.17812861502170563, 0.12099302560091019, 0.0747804120182991, 0.642744779586792, 0.02060079388320446, 0.01236047688871622, 0.3241191804409027, 0.9293120503425598, 0.026177803054451942, 0.045811157673597336, 0.29492202401161194, 0.3039044439792633, 0.1961156725883484, 0.028444256633520126, 0.17515674233436584, 0.7447595000267029, 0.12118121236562729, 0.02903299778699875, 0.09972203522920609, 0.0037869128864258528, 0.8991832733154297, 0.029005911201238632, 0.0676804631948471, 0.07669830322265625, 0.0645880475640297, 0.08477181196212769, 0.5974394083023071, 0.18165387213230133, 0.011461295187473297, 0.004584518261253834, 0.9833791851997375, 0.0025484412908554077, 0.061162590980529785, 0.47655850648880005, 0.028032854199409485, 0.4281381368637085, 0.9146579504013062, 0.06994443386793137, 0.010760681703686714, 0.9095579981803894, 0.011990406550467014, 0.05310037359595299, 0.008564576506614685, 0.018842067569494247, 0.7418161034584045, 0.0526973158121109, 0.10944827646017075, 0.08918007463216782, 0.006756066344678402, 0.23849037289619446, 0.16827492415905, 0.20943570137023926, 0.3801318407058716, 0.0036318330094218254, 0.9735621809959412, 0.966457724571228, 0.6755465269088745, 0.08310765773057938, 0.0427410788834095, 0.18046234548091888, 0.017808783799409866, 0.9764403104782104, 0.019998162984848022, 0.8699200749397278, 0.029997244477272034, 0.03499678522348404, 0.04499586671590805, 0.18208499252796173, 0.7423465251922607, 0.014006538316607475, 0.05135730654001236, 0.004668846260756254, 0.02483634278178215, 0.9437810182571411, 0.02483634278178215, 0.953965425491333, 0.9581096768379211, 0.18252332508563995, 0.5752249956130981, 0.061947308480739594, 0.09402716159820557, 0.08517754822969437, 0.9840006232261658, 0.010250006802380085, 0.9971339106559753, 0.5021526217460632, 0.0769161507487297, 0.3032694160938263, 0.04944609850645065, 0.06702693551778793, 0.9898027777671814, 0.10885308682918549, 0.07256872951984406, 0.22677727043628693, 0.5941564440727234, 0.050390295684337616, 0.2676284611225128, 0.47030940651893616, 0.15341044962406158, 0.05934856832027435, 0.20992743968963623, 0.5309929251670837, 0.026755457744002342, 0.13652144372463226, 0.09604523330926895, 0.9244105219841003, 0.012243848294019699, 0.024487696588039398, 0.030609620735049248, 0.012243848294019699, 0.9861177802085876, 0.9510334134101868, 0.997133731842041, 0.9781635403633118, 0.9686742424964905, 0.07671839743852615, 0.0306873582303524, 0.0613747164607048, 0.8285586833953857, 0.9768752455711365, 0.8366708755493164, 0.011593591421842575, 0.0309162437915802, 0.11013912409543991, 0.009661326184868813, 0.9764403104782104, 0.9703667163848877, 0.007135049439966679, 0.007135049439966679, 0.02140514925122261, 0.37116286158561707, 0.45318010449409485, 0.09313824772834778, 0.07784689217805862, 0.004170369356870651, 0.6919447779655457, 0.07344665378332138, 0.070869579911232, 0.11467985808849335, 0.05025297403335571, 0.21927011013031006, 0.2579648494720459, 0.0064491210505366325, 0.5159296989440918, 0.28229182958602905, 0.2503342628479004, 0.23861649632453918, 0.1842886358499527, 0.043675340712070465, 0.01981901191174984, 0.9711315631866455, 0.24565599858760834, 0.4292130768299103, 0.10136733949184418, 0.1452018767595291, 0.07853686064481735, 0.9709250926971436, 0.18473877012729645, 0.1911090612411499, 0.01911090686917305, 0.0382218137383461, 0.5637717247009277, 0.14860011637210846, 0.5027109980583191, 0.16045650839805603, 0.18179801106452942, 0.006323408801108599, 0.011349637061357498, 0.07377263903617859, 0.017024455592036247, 0.9022961854934692, 0.3131062984466553, 0.11162097752094269, 0.013243167661130428, 0.5618886947631836, 0.21937522292137146, 0.5973349213600159, 0.021144598722457886, 0.1638706475496292, 0.2848888039588928, 0.14138926565647125, 0.19203616678714752, 0.09074236452579498, 0.29121968150138855, 0.205537810921669, 0.3410268723964691, 0.09216942638158798, 0.32259297370910645, 0.03871115669608116, 0.9658305048942566, 0.02610352821648121, 0.006436171475797892, 0.7594681978225708, 0.1673404574394226, 0.06436171382665634, 0.07427570968866348, 0.928446352481842, 0.9733352661132812, 0.9732245206832886, 0.45320987701416016, 0.1280810534954071, 0.3043293356895447, 0.030651874840259552, 0.0831979513168335, 0.06035126745700836, 0.004642405081540346, 0.9284810423851013, 0.9470348358154297, 0.9719145894050598, 0.7530096769332886, 0.009886342100799084, 0.09886341542005539, 0.0972156971693039, 0.04119309037923813, 0.9578150510787964, 0.020822064951062202, 0.16118277609348297, 0.2344476729631424, 0.4142796993255615, 0.05061938241124153, 0.1398693472146988, 0.8984662294387817, 0.03834917023777962, 0.007826360873878002, 0.049306076020002365, 0.007043724879622459, 0.9338609576225281, 0.00893646851181984, 0.05585293099284172, 0.00223411712795496, 0.7870106101036072, 0.02500535361468792, 0.007896427065134048, 0.17766961455345154, 0.002632142510265112, 0.98243647813797, 0.9833799600601196, 0.967047929763794, 0.988431990146637, 0.010404546745121479, 0.9420823454856873, 0.43434903025627136, 0.031304433941841125, 0.003913054242730141, 0.015652216970920563, 0.5165231823921204, 0.009128089062869549, 0.14376740157604218, 0.7804515957832336, 0.06161459907889366, 0.004564044531434774, 0.21988894045352936, 0.1185917854309082, 0.6003709435462952, 0.05188390612602234, 0.007411986589431763, 0.042288631200790405, 0.8880612850189209, 0.059204086661338806, 0.9941080808639526, 0.9813346862792969, 0.950752854347229, 0.030669447034597397, 0.9704487323760986, 0.9855114221572876, 0.9467871189117432, 0.9849423766136169, 0.9869574904441833, 0.6612198948860168, 0.09617743641138077, 0.07213307917118073, 0.16641227900981903, 0.004429223947227001, 0.9764832258224487, 0.5199889540672302, 0.08098715543746948, 0.20696717500686646, 0.15940329432487488, 0.032780516892671585, 0.9364004135131836, 0.07175897061824799, 0.9328665733337402, 0.1262037307024002, 0.5459597110748291, 0.04074916988611221, 0.18238219618797302, 0.10484009236097336, 0.9558055996894836, 0.9791046977043152, 0.028956877067685127, 0.9555769562721252, 0.49993696808815, 0.11271306127309799, 0.1708875447511673, 0.1345284879207611, 0.08089889585971832, 0.2810288369655609, 0.052528757601976395, 0.17597132921218872, 0.4307357966899872, 0.06040807068347931, 0.9835324883460999, 0.7729278802871704, 0.11377209424972534, 0.054177187383174896, 0.032506313174963, 0.027088593691587448, 0.969383955001831, 0.025288278236985207, 0.9652028679847717, 0.027577225118875504, 0.9864969253540039, 0.9449991583824158, 0.05326901376247406, 0.11541619151830673, 0.8167915344238281, 0.008878168649971485, 0.970716118812561, 0.9850596189498901, 0.34839963912963867, 0.12332730740308762, 0.04162296652793884, 0.46401897072792053, 0.024665459990501404, 0.1424412727355957, 0.12949207425117493, 0.012949206866323948, 0.7122063636779785, 0.18441854417324066, 0.22169463336467743, 0.41984647512435913, 0.09613306820392609, 0.07847597450017929, 0.9545719623565674, 0.19214756786823273, 0.14709226787090302, 0.5128352046012878, 0.018552178516983986, 0.13119040429592133, 0.03482114523649216, 0.01741057261824608, 0.9227603673934937, 0.9158223867416382, 0.008805984631180763, 0.07485087215900421, 0.9218530654907227, 0.015112345106899738, 0.04533703625202179, 0.9421014189720154, 0.08903235197067261, 0.8458073139190674, 0.0034243210684508085, 0.06163778156042099, 0.6189456582069397, 0.04218994081020355, 0.17211578786373138, 0.14239105582237244, 0.0239715576171875, 0.9769962430000305, 0.27070608735084534, 0.03889455273747444, 0.48851555585861206, 0.06067550182342529, 0.14313195645809174, 0.9813864827156067, 0.9898936152458191, 0.9273273348808289, 0.08925680071115494, 0.7735589146614075, 0.035702720284461975, 0.06545498222112656, 0.035702720284461975, 0.3021072745323181, 0.2460712492465973, 0.16688990592956543, 0.28139829635620117, 0.0024363489355891943, 0.042373571544885635, 0.18220636248588562, 0.24576671421527863, 0.016949428245425224, 0.5127202272415161, 0.7848132848739624, 0.010544516146183014, 0.015063595026731491, 0.1732313334941864, 0.01656995341181755, 0.017498834058642387, 0.8705670237541199, 0.03937237709760666, 0.06999533623456955, 0.6073788404464722, 0.06588353216648102, 0.1284007579088211, 0.15244583785533905, 0.04568566381931305, 0.9841890931129456, 0.9814339876174927, 0.3079826533794403, 0.2731378972530365, 0.2113165557384491, 0.18996009230613708, 0.017984388396143913, 0.7983245849609375, 0.09444772452116013, 0.002068198285996914, 0.10478872060775757, 0.9870452880859375, 0.3854012191295624, 0.005883987993001938, 0.5501528978347778, 0.05883987993001938, 0.2560085952281952, 0.2524693012237549, 0.46954572200775146, 0.0023595262318849564, 0.021235736086964607, 0.9575713872909546, 0.018775910139083862, 0.018775910139083862, 0.9457042217254639, 0.04651004448533058, 0.8807994723320007, 0.05996932461857796, 0.01124424859881401, 0.04497699439525604, 0.17016293108463287, 0.19018208980560303, 0.44242361187934875, 0.1741667538881302, 0.022021085023880005, 0.02127040922641754, 0.957168459892273, 0.02127040922641754, 0.016331132501363754, 0.1469801813364029, 0.8328877091407776, 0.9891111850738525, 0.709571361541748, 0.03719717264175415, 0.17656885087490082, 0.06497734040021896, 0.012242106720805168, 0.9361518621444702, 0.7896020412445068, 0.07535621523857117, 0.00491453567519784, 0.11794885247945786, 0.011467250064015388, 0.7696713209152222, 0.0984463319182396, 0.03729027882218361, 0.08800505846738815, 0.007458055857568979, 0.9771199226379395, 0.9857553839683533, 0.0038877844344824553, 0.7542301416397095, 0.0077755688689649105, 0.21771591901779175, 0.011663353070616722, 0.11723671108484268, 0.21582213044166565, 0.08526306599378586, 0.5835191011428833, 0.15860137343406677, 0.13216781616210938, 0.16821357607841492, 0.1201525554060936, 0.4205339550971985, 0.9938040375709534, 0.44818416237831116, 0.11135010421276093, 0.005567505024373531, 0.38415786623954773, 0.05010754615068436, 0.9516527056694031, 0.06686650961637497, 0.2571788728237152, 0.26232245564460754, 0.018002521246671677, 0.39862728118896484, 0.017404215410351753, 0.48890024423599243, 0.09809648990631104, 0.2183438092470169, 0.17878876626491547, 0.9851717352867126, 0.017592351883649826, 0.33131304383277893, 0.29737967252731323, 0.05861217528581619, 0.2825723886489868, 0.02961457334458828, 0.2068331390619278, 0.28463274240493774, 0.12523840367794037, 0.36622747778892517, 0.017077965661883354, 0.9551381468772888, 0.29524025321006775, 0.06418266147375107, 0.36584118008613586, 0.2631489336490631, 0.012836532667279243, 0.5193475484848022, 0.13129104673862457, 0.14874112606048584, 0.171176940202713, 0.029083460569381714, 0.9822638630867004, 0.25723928213119507, 0.15005624294281006, 0.1909806728363037, 0.3546783924102783, 0.04677077755331993, 0.021873947232961655, 0.021873947232961655, 0.9624537229537964, 0.9643656611442566, 0.012403416447341442, 0.021705979481339455, 0.9558055400848389, 0.08279547840356827, 0.24255576729774475, 0.07463254779577255, 0.08979228138923645, 0.5096003413200378, 0.060701195150613785, 0.12140239030122757, 0.8042908310890198, 0.22483161091804504, 0.02697979472577572, 0.6145397424697876, 0.12890346348285675, 0.002997754840180278, 0.9893324375152588, 0.01009522844105959, 0.9884347915649414, 0.010404576547443867, 0.07580248266458511, 0.7467948198318481, 0.09545497596263885, 0.05053498595952988, 0.030882492661476135, 0.9891114234924316, 0.08667255938053131, 0.8956164121627808, 0.009630284272134304, 0.009630284272134304, 0.880294680595398, 0.11158665269613266, 0.11643186956644058, 0.017912594601511955, 0.8598045706748962, 0.19554150104522705, 0.5346838235855103, 0.081475630402565, 0.07740184664726257, 0.11101054400205612, 0.22041648626327515, 0.02938886359333992, 0.28759104013442993, 0.025190455839037895, 0.4387337565422058, 0.0076075331307947636, 0.019018832594156265, 0.9167077541351318, 0.045645199716091156, 0.015215066261589527, 0.9740903973579407, 0.9802442789077759, 0.48928388953208923, 0.027426226064562798, 0.20185703039169312, 0.1404222846031189, 0.1404222846031189, 0.9914620518684387, 0.10963788628578186, 0.591467559337616, 0.11829350888729095, 0.07213018834590912, 0.1067526787519455, 0.9902218580245972, 0.9300858378410339, 0.9601955413818359, 0.03200651705265045, 0.3139882981777191, 0.22351709008216858, 0.16852478682994843, 0.26165691018104553, 0.031931012868881226, 0.970429003238678, 0.4666256308555603, 0.3488989770412445, 0.06421453505754471, 0.10702423006296158, 0.013913149945437908, 0.12779709696769714, 0.05623072385787964, 0.12779709696769714, 0.6849924921989441, 0.9751033782958984, 0.13174860179424286, 0.7465754151344299, 0.030741339549422264, 0.06148267909884453, 0.030741339549422264, 0.8419907689094543, 0.014902491122484207, 0.03228873014450073, 0.10928493738174438, 0.3130066394805908, 0.023185675963759422, 0.533270537853241, 0.12236884981393814, 0.009016651660203934, 0.9544728994369507, 0.13212014734745026, 0.828753650188446, 0.024021845310926437, 0.07187790423631668, 0.8984737992286682, 0.566053032875061, 0.03747839853167534, 0.08917274326086044, 0.2998271882534027, 0.007754151709377766, 0.9848862886428833, 0.9513875246047974, 0.15532316267490387, 0.3190421760082245, 0.52474045753479, 0.9932453036308289, 0.029924124479293823, 0.05386342480778694, 0.813936173915863, 0.03590894863009453, 0.07181789726018906, 0.9642444252967834, 0.3972577750682831, 0.005929220467805862, 0.0948675274848938, 0.49805453419685364, 0.002964610233902931, 0.10391370952129364, 0.36265885829925537, 0.30238890647888184, 0.06754390895366669, 0.1631445288658142, 0.22259974479675293, 0.1416543871164322, 0.46543583273887634, 0.07471879571676254, 0.09651178121566772, 0.005610199179500341, 0.6264722347259521, 0.05049179494380951, 0.06545232236385345, 0.25245895981788635, 0.05585967376828194, 0.1005474105477333, 0.7820354700088501, 0.05139090120792389, 0.013406321406364441, 0.01827451027929783, 0.9685490727424622, 0.33395519852638245, 0.08265111595392227, 0.034624114632606506, 0.5416998863220215, 0.007818348705768585, 0.9446433782577515, 0.04368293285369873, 0.010920733213424683, 0.2826814651489258, 0.6525450944900513, 0.05283765867352486, 0.013209414668381214, 0.7728285789489746, 0.02004743367433548, 0.029068779200315475, 0.1734103113412857, 0.0040094866417348385, 0.09112179279327393, 0.7236142158508301, 0.026800528168678284, 0.15008296072483063, 0.4809704124927521, 0.1311737447977066, 0.2657109200954437, 0.08744916319847107, 0.034755438566207886, 0.08589144051074982, 0.8932709693908691, 0.628897488117218, 0.10333617031574249, 0.1372433453798294, 0.09203378111124039, 0.038751065731048584, 0.9574434161186218, 0.003972794394940138, 0.027809560298919678, 0.011918382719159126, 0.8969272375106812, 0.05157768726348877, 0.011364574544131756, 0.039338912814855576, 0.0008741981000639498, 0.25070008635520935, 0.29617592692375183, 0.011660469695925713, 0.441931813955307, 0.9710027575492859, 0.7069206833839417, 0.04764310643076897, 0.10816273093223572, 0.07983439415693283, 0.056656669825315475, 0.941645622253418, 0.5937004089355469, 0.08803287893533707, 0.15019828081130981, 0.09387392550706863, 0.07426470518112183, 0.06593841314315796, 0.912148118019104, 0.010989735834300518, 0.019230389967560768, 0.4692215025424957, 0.13461272418498993, 0.06346029043197632, 0.3153783977031708, 0.0245050098747015, 0.01225250493735075, 0.9556953310966492, 0.21549092233181, 0.16978073120117188, 0.5844374895095825, 0.02285509742796421, 0.006530027836561203, 0.9709416031837463, 0.9881954193115234, 0.02225392684340477, 0.017803141847252846, 0.542995810508728, 0.413923054933548, 0.008526263758540154, 0.7375218272209167, 0.12789396941661835, 0.08952577412128448, 0.034105055034160614, 0.1471351534128189, 0.5156357884407043, 0.11399660259485245, 0.09676455706357956, 0.1272520273923874, 0.9764403104782104, 0.11336864531040192, 0.022043902426958084, 0.24248293042182922, 0.04408780485391617, 0.5731414556503296, 0.9949830174446106, 0.07460559159517288, 0.15667174756526947, 0.007460559252649546, 0.7460559010505676, 0.014921118505299091, 0.041364528238773346, 0.08272905647754669, 0.8769279718399048, 0.40940219163894653, 0.14290454983711243, 0.011586855165660381, 0.4345070421695709, 0.0019311424111947417, 0.9718167781829834, 0.027890121564269066, 0.8645938038825989, 0.013945060782134533, 0.09064289927482605, 0.05060841515660286, 0.10121683031320572, 0.8097346425056458, 0.042173679918050766, 0.9427129030227661, 0.6390627026557922, 0.051946498453617096, 0.1739603579044342, 0.06281901895999908, 0.07248348742723465, 0.07339083403348923, 0.2668757736682892, 0.08673462271690369, 0.05337515100836754, 0.5204077363014221, 0.7173134088516235, 0.03527770936489105, 0.09260398894548416, 0.11391760408878326, 0.041157327592372894, 0.27568432688713074, 0.13103514909744263, 0.4237370193004608, 0.020421061664819717, 0.14805269241333008, 0.9860948324203491, 0.951266348361969, 0.9589613080024719, 0.028951484709978104, 0.9264475107192993, 0.028951484709978104, 0.1966913342475891, 0.2646392583847046, 0.4815957546234131, 0.04291447252035141, 0.014304825104773045, 0.9808553457260132, 0.9630014896392822, 0.010410826653242111, 0.015616240911185741, 0.010410826653242111, 0.9930319786071777, 0.35711297392845154, 0.37175798416137695, 0.0766046792268753, 0.1385643482208252, 0.055200427770614624, 0.9635019898414612, 0.96497642993927, 0.012292693369090557, 0.01843903958797455, 0.0061463466845452785, 0.9235277771949768, 0.015831904485821724, 0.02110920660197735, 0.005277301650494337, 0.03166380897164345, 0.14516369998455048, 0.06350912153720856, 0.02721819467842579, 0.7530367374420166, 0.04700509086251259, 0.14101526141166687, 0.7990865111351013], \"Term\": [\"across\", \"across\", \"across\", \"across\", \"across\", \"actor\", \"actor\", \"advantag\", \"advantag\", \"advantag\", \"advantag\", \"advantag\", \"airbus\", \"airlin\", \"airlin\", \"airlin\", \"airlin\", \"airlin\", \"alga\", \"algorithm\", \"algorithm\", \"america\", \"america\", \"america\", \"america\", \"america\", \"amish\", \"analysi\", \"analysi\", \"analysi\", \"analysi\", \"analysi\", \"analyst\", \"analyst\", \"analyst\", \"analyst\", \"analyst\", \"analyt\", \"analyt\", \"analyt\", \"analyt\", \"apac\", \"api\", \"api\", \"apologis\", \"applic\", \"applic\", \"applic\", \"applic\", \"arabia\", \"ask\", \"ask\", \"ask\", \"ask\", \"ask\", \"auto\", \"auto\", \"auto\", \"automak\", \"automak\", \"bank\", \"bank\", \"bank\", \"bank\", \"bank\", \"barra\", \"barrel\", \"bat\", \"behavior\", \"behavior\", \"behavior\", \"behavior\", \"bestofbre\", \"billion\", \"billion\", \"billion\", \"billion\", \"billion\", \"bitcoin\", \"bitcoin\", \"bladow\", \"bloomthat\", \"bolsonaro\", \"bpos\", \"brainstorm\", \"build\", \"build\", \"build\", \"build\", \"build\", \"bullard\", \"bumiputera\", \"bundl\", \"bundl\", \"burnout\", \"businessth\", \"businessth\", \"buzzfe\", \"cagr\", \"cann\", \"capitalist\", \"capitalist\", \"capitalist\", \"carbon\", \"carbon\", \"carbon\", \"carbon\", \"career\", \"career\", \"career\", \"central\", \"central\", \"central\", \"central\", \"central\", \"challeng\", \"challeng\", \"challeng\", \"challeng\", \"challeng\", \"chan\", \"chang\", \"chang\", \"chang\", \"chang\", \"chang\", \"chartreus\", \"china\", \"china\", \"china\", \"chines\", \"chines\", \"chines\", \"chines\", \"chines\", \"chou\", \"chrysler\", \"citi\", \"citi\", \"citi\", \"citi\", \"citi\", \"clinician\", \"close\", \"close\", \"close\", \"close\", \"close\", \"closur\", \"closur\", \"closur\", \"cnn\", \"cnns\", \"co\", \"co\", \"co\", \"co\", \"co\", \"coach\", \"coach\", \"compass\", \"compass\", \"competit\", \"competit\", \"competit\", \"competit\", \"competit\", \"competitor\", \"competitor\", \"competitor\", \"competitor\", \"comtex\", \"comtext\", \"condom\", \"copyright\", \"copyright\", \"copyright\", \"copyright\", \"coronavirus\", \"coronavirus\", \"coronavirus\", \"coronavirus\", \"countri\", \"countri\", \"countri\", \"countri\", \"countri\", \"courag\", \"covid\", \"covid\", \"covid\", \"covid\", \"covid\", \"cowork\", \"cramer\", \"creat\", \"creat\", \"creat\", \"creat\", \"creat\", \"creativ\", \"creativ\", \"creativ\", \"crowdfund\", \"crowdfund\", \"crowdfund\", \"csuit\", \"cultur\", \"cultur\", \"cultur\", \"cultur\", \"customer\", \"customer\", \"customer\", \"customer\", \"customer\", \"cut\", \"cut\", \"cut\", \"cut\", \"cut\", \"data\", \"data\", \"data\", \"data\", \"data\", \"datadriven\", \"datadriven\", \"dataen\", \"deleg\", \"develop\", \"develop\", \"develop\", \"develop\", \"develop\", \"differ\", \"differ\", \"differ\", \"differ\", \"differ\", \"digital\", \"digital\", \"digital\", \"digital\", \"disclaim\", \"disclaim\", \"dji\", \"djia\", \"dow\", \"dow\", \"dow\", \"downtown\", \"eap\", \"ecosystem\", \"ecosystem\", \"ecosystem\", \"ecosystem\", \"emot\", \"empathi\", \"employ\", \"employ\", \"employ\", \"employ\", \"employ\", \"employe\", \"employe\", \"employe\", \"employe\", \"engag\", \"engag\", \"engag\", \"engag\", \"epistem\", \"esg\", \"esg\", \"et\", \"etf\", \"etf\", \"even\", \"even\", \"even\", \"even\", \"even\", \"exampl\", \"exampl\", \"exampl\", \"exampl\", \"exercis\", \"exercis\", \"exercis\", \"expect\", \"expect\", \"expect\", \"expect\", \"expect\", \"experi\", \"experi\", \"experi\", \"experi\", \"experi\", \"export\", \"export\", \"export\", \"facebook\", \"facebook\", \"facebook\", \"facebook\", \"facebook\", \"fed\", \"fed\", \"fed\", \"feder\", \"feder\", \"feder\", \"feder\", \"feder\", \"feedback\", \"feedback\", \"feedback\", \"feel\", \"feel\", \"feel\", \"feel\", \"feel\", \"find\", \"find\", \"find\", \"find\", \"find\", \"firm\", \"firm\", \"firm\", \"firm\", \"firm\", \"fis\", \"flynn\", \"focus\", \"focus\", \"focus\", \"focus\", \"focus\", \"footer\", \"forecast\", \"forecast\", \"forecast\", \"forecast\", \"forecast\", \"fortun\", \"fortun\", \"fortun\", \"fortun\", \"fortun\", \"furlough\", \"furlough\", \"furlough\", \"gamif\", \"gent\", \"global\", \"global\", \"global\", \"global\", \"global\", \"gm\", \"gm\", \"gmt\", \"go\", \"go\", \"go\", \"go\", \"go\", \"golf\", \"googl\", \"googl\", \"googl\", \"googl\", \"govern\", \"govern\", \"govern\", \"govern\", \"govern\", \"growth\", \"growth\", \"growth\", \"growth\", \"growth\", \"habit\", \"habit\", \"habit\", \"habit\", \"habit\", \"harmoni\", \"hawker\", \"hkt\", \"hostel\", \"huffpost\", \"hurrican\", \"hurrican\", \"hurrican\", \"hurrican\", \"hurst\", \"idea\", \"idea\", \"idea\", \"idea\", \"idea\", \"ideawatch\", \"ident\", \"ident\", \"ident\", \"ident\", \"impact\", \"impact\", \"impact\", \"impact\", \"impact\", \"import\", \"import\", \"import\", \"import\", \"import\", \"inc\", \"inc\", \"inc\", \"inc\", \"includ\", \"includ\", \"includ\", \"includ\", \"includ\", \"inconveni\", \"inconveni\", \"increas\", \"increas\", \"increas\", \"increas\", \"increas\", \"incumb\", \"indic\", \"indic\", \"indic\", \"indic\", \"indic\", \"industri\", \"industri\", \"industri\", \"industri\", \"industri\", \"inflat\", \"inflat\", \"inflat\", \"inflat\", \"innovation\", \"innovation\", \"innovation\", \"innovation\", \"insight\", \"insight\", \"insight\", \"insight\", \"interest\", \"interest\", \"interest\", \"interest\", \"interest\", \"invest\", \"invest\", \"invest\", \"invest\", \"invest\", \"iran\", \"iran\", \"japan\", \"japan\", \"japan\", \"japan\", \"jeanna\", \"jeanna\", \"jerom\", \"jessa\", \"job\", \"job\", \"job\", \"job\", \"job\", \"jone\", \"jone\", \"jone\", \"kangtai\", \"kenko\", \"know\", \"know\", \"know\", \"know\", \"know\", \"landlord\", \"landlord\", \"last\", \"last\", \"last\", \"last\", \"last\", \"leader\", \"leader\", \"leader\", \"leader\", \"leader\", \"leadership\", \"leadership\", \"leadership\", \"leadership\", \"learn\", \"learn\", \"learn\", \"learn\", \"learn\", \"lego\", \"lessin\", \"licensor\", \"lipper\", \"lipper\", \"liqueur\", \"llc\", \"llc\", \"llc\", \"llc\", \"llc\", \"loan\", \"loan\", \"loan\", \"loan\", \"loan\", \"local\", \"local\", \"local\", \"local\", \"local\", \"log\", \"log\", \"log\", \"login\", \"lordstown\", \"los\", \"los\", \"lowerti\", \"luckin\", \"machinelearn\", \"maharashtra\", \"mall\", \"manag\", \"manag\", \"manag\", \"manag\", \"manag\", \"manpow\", \"many\", \"many\", \"many\", \"many\", \"many\", \"mare\", \"maria\", \"maria\", \"market\", \"market\", \"market\", \"market\", \"market\", \"marketrel\", \"marketwatch\", \"mas\", \"mas\", \"may\", \"may\", \"may\", \"may\", \"may\", \"media\", \"media\", \"media\", \"media\", \"media\", \"medit\", \"member\", \"member\", \"member\", \"member\", \"member\", \"mental\", \"mental\", \"mentor\", \"mentor\", \"mercantil\", \"michelin\", \"microsoft\", \"microsoft\", \"microsoft\", \"microsoft\", \"mill\", \"mncs\", \"model\", \"model\", \"model\", \"model\", \"model\", \"monetari\", \"monetari\", \"monetari\", \"monetari\", \"money\", \"money\", \"money\", \"money\", \"money\", \"monk\", \"month\", \"month\", \"month\", \"month\", \"month\", \"morningstar\", \"morningstar\", \"morningstar\", \"motiv\", \"motiv\", \"motiv\", \"motor\", \"motor\", \"motor\", \"moviepass\", \"ms\", \"ms\", \"ms\", \"ms\", \"need\", \"need\", \"need\", \"need\", \"need\", \"needtoknow\", \"news\", \"news\", \"news\", \"news\", \"news\", \"nissan\", \"nokia\", \"nordlicht\", \"north\", \"north\", \"north\", \"north\", \"north\", \"offer\", \"offer\", \"offer\", \"offer\", \"offer\", \"offici\", \"offici\", \"offici\", \"offici\", \"offici\", \"often\", \"often\", \"often\", \"often\", \"often\", \"oil\", \"oil\", \"oil\", \"oil\", \"one\", \"one\", \"one\", \"one\", \"one\", \"opco\", \"opec\", \"oper\", \"oper\", \"oper\", \"oper\", \"oper\", \"organisation\", \"organisation\", \"organisation\", \"organisation\", \"overview\", \"owner\", \"owner\", \"owner\", \"owner\", \"pandem\", \"pandem\", \"pandem\", \"pandem\", \"pandem\", \"passion\", \"passion\", \"passion\", \"password\", \"password\", \"patient\", \"patient\", \"patient\", \"patient\", \"pay\", \"pay\", \"pay\", \"pay\", \"pay\", \"paycheck\", \"paycheck\", \"paycheck\", \"payout\", \"payout\", \"payout\", \"pdfs\", \"people\", \"people\", \"people\", \"people\", \"people\", \"peretti\", \"perform\", \"perform\", \"perform\", \"perform\", \"perform\", \"person\", \"person\", \"person\", \"person\", \"person\", \"peza\", \"pixar\", \"plant\", \"plant\", \"plant\", \"plant\", \"plant\", \"platform\", \"platform\", \"platform\", \"platform\", \"polici\", \"polici\", \"polici\", \"polici\", \"polici\", \"powel\", \"power\", \"power\", \"power\", \"power\", \"power\", \"ppp\", \"presid\", \"presid\", \"presid\", \"presid\", \"presid\", \"price\", \"price\", \"price\", \"price\", \"price\", \"proactiv\", \"proactiv\", \"product\", \"product\", \"product\", \"product\", \"product\", \"profit\", \"profit\", \"profit\", \"profit\", \"profit\", \"progeni\", \"program\", \"program\", \"program\", \"program\", \"program\", \"provid\", \"provid\", \"provid\", \"provid\", \"provid\", \"psychologist\", \"public\", \"public\", \"public\", \"public\", \"public\", \"puerto\", \"puerto\", \"puerto\", \"purpos\", \"purpos\", \"purpos\", \"pvt\", \"rate\", \"rate\", \"rate\", \"rate\", \"rate\", \"rd\", \"rd\", \"rd\", \"receiv\", \"receiv\", \"receiv\", \"receiv\", \"receiv\", \"redistribut\", \"redistribut\", \"refinitiv\", \"refinitiv\", \"region\", \"region\", \"region\", \"region\", \"region\", \"regn\", \"relief\", \"relief\", \"relief\", \"relief\", \"rent\", \"rent\", \"reopen\", \"reopen\", \"reopen\", \"report\", \"report\", \"report\", \"report\", \"report\", \"reserv\", \"reserv\", \"reserv\", \"reserv\", \"reserv\", \"restaur\", \"restaur\", \"restaur\", \"restaur\", \"restaur\", \"retrench\", \"rico\", \"right\", \"right\", \"right\", \"right\", \"right\", \"riku\", \"rise\", \"rise\", \"rise\", \"rise\", \"rise\", \"rm\", \"sadun\", \"saudi\", \"saudi\", \"service\", \"service\", \"service\", \"service\", \"service\", \"shall\", \"share\", \"share\", \"share\", \"share\", \"share\", \"sharehold\", \"sharehold\", \"sharehold\", \"sharehold\", \"shisha\", \"size\", \"size\", \"size\", \"size\", \"size\", \"skill\", \"skill\", \"skill\", \"skill\", \"small\", \"small\", \"small\", \"small\", \"small\", \"smallblock\", \"smes\", \"smes\", \"smes\", \"smialek\", \"smialek\", \"social\", \"social\", \"social\", \"social\", \"social\", \"sofi\", \"soulcycl\", \"sp\", \"sp\", \"sp\", \"sph\", \"st\", \"st\", \"st\", \"st\", \"st\", \"starhub\", \"startup\", \"startup\", \"startup\", \"startup\", \"startup\", \"state\", \"state\", \"state\", \"state\", \"state\", \"still\", \"still\", \"still\", \"still\", \"still\", \"stock\", \"stock\", \"stock\", \"stock\", \"stock\", \"store\", \"store\", \"store\", \"store\", \"store\", \"strait\", \"strait\", \"strategi\", \"strategi\", \"strategi\", \"strategi\", \"strategi\", \"stress\", \"stress\", \"stress\", \"subscrib\", \"subscrib\", \"subscrib\", \"subscrib\", \"success\", \"success\", \"success\", \"success\", \"success\", \"supplier\", \"supplier\", \"supplier\", \"supplier\", \"support\", \"support\", \"support\", \"support\", \"support\", \"surveil\", \"surveil\", \"take\", \"take\", \"take\", \"take\", \"take\", \"task\", \"task\", \"task\", \"task\", \"team\", \"team\", \"team\", \"team\", \"team\", \"technology\", \"technology\", \"technology\", \"technology\", \"telehealth\", \"think\", \"think\", \"think\", \"think\", \"think\", \"thirdparti\", \"time\", \"time\", \"time\", \"time\", \"time\", \"tourism\", \"tourism\", \"tourism\", \"trade\", \"trade\", \"trade\", \"trade\", \"trade\", \"trademark\", \"trademark\", \"trademark\", \"travel\", \"travel\", \"travel\", \"travel\", \"travel\", \"trefi\", \"uaw\", \"unemploy\", \"unemploy\", \"unemploy\", \"unemploy\", \"union\", \"union\", \"union\", \"union\", \"union\", \"unit\", \"unit\", \"unit\", \"unit\", \"unit\", \"unsubscrib\", \"updat\", \"updat\", \"updat\", \"updat\", \"updat\", \"usd\", \"user\", \"user\", \"user\", \"user\", \"user\", \"vaccin\", \"vaccin\", \"vaccin\", \"valu\", \"valu\", \"valu\", \"valu\", \"valu\", \"valuecaptur\", \"vehicl\", \"vehicl\", \"vehicl\", \"vehicl\", \"virus\", \"virus\", \"virus\", \"virus\", \"waiv\", \"want\", \"want\", \"want\", \"want\", \"want\", \"war\", \"war\", \"war\", \"war\", \"war\", \"way\", \"way\", \"way\", \"way\", \"way\", \"week\", \"week\", \"week\", \"week\", \"week\", \"welch\", \"wework\", \"wfh\", \"wire\", \"wire\", \"wire\", \"worker\", \"worker\", \"worker\", \"worker\", \"worker\", \"worklif\", \"workplac\", \"workplac\", \"workplac\", \"workplac\", \"workspac\", \"world\", \"world\", \"world\", \"world\", \"world\", \"yellen\", \"youll\", \"youll\", \"youll\", \"youll\", \"youv\", \"youv\", \"youv\", \"youv\", \"youv\", \"zoom\", \"zoom\", \"zoom\", \"zoom\", \"zuckerberg\", \"zuckerberg\", \"zuckerberg\"]}, \"R\": 30, \"lambda.step\": 0.01, \"plot.opts\": {\"xlab\": \"PC1\", \"ylab\": \"PC2\"}, \"topic.order\": [1, 4, 5, 3, 2]};\n",
       "\n",
       "function LDAvis_load_lib(url, callback){\n",
       "  var s = document.createElement('script');\n",
       "  s.src = url;\n",
       "  s.async = true;\n",
       "  s.onreadystatechange = s.onload = callback;\n",
       "  s.onerror = function(){console.warn(\"failed to load library \" + url);};\n",
       "  document.getElementsByTagName(\"head\")[0].appendChild(s);\n",
       "}\n",
       "\n",
       "if(typeof(LDAvis) !== \"undefined\"){\n",
       "   // already loaded: just create the visualization\n",
       "   !function(LDAvis){\n",
       "       new LDAvis(\"#\" + \"ldavis_el1271222898602716804400442700\", ldavis_el1271222898602716804400442700_data);\n",
       "   }(LDAvis);\n",
       "}else if(typeof define === \"function\" && define.amd){\n",
       "   // require.js is available: use it to load d3/LDAvis\n",
       "   require.config({paths: {d3: \"https://cdnjs.cloudflare.com/ajax/libs/d3/3.5.5/d3.min\"}});\n",
       "   require([\"d3\"], function(d3){\n",
       "      window.d3 = d3;\n",
       "      LDAvis_load_lib(\"https://cdn.rawgit.com/bmabey/pyLDAvis/files/ldavis.v1.0.0.js\", function(){\n",
       "        new LDAvis(\"#\" + \"ldavis_el1271222898602716804400442700\", ldavis_el1271222898602716804400442700_data);\n",
       "      });\n",
       "    });\n",
       "}else{\n",
       "    // require.js not available: dynamically load d3 & LDAvis\n",
       "    LDAvis_load_lib(\"https://cdnjs.cloudflare.com/ajax/libs/d3/3.5.5/d3.min.js\", function(){\n",
       "         LDAvis_load_lib(\"https://cdn.rawgit.com/bmabey/pyLDAvis/files/ldavis.v1.0.0.js\", function(){\n",
       "                 new LDAvis(\"#\" + \"ldavis_el1271222898602716804400442700\", ldavis_el1271222898602716804400442700_data);\n",
       "            })\n",
       "         });\n",
       "}\n",
       "</script>"
      ],
      "text/plain": [
       "PreparedData(topic_coordinates=              x         y  topics  cluster       Freq\n",
       "topic                                                \n",
       "0      0.105181  0.071266       1        1  40.429939\n",
       "3     -0.012790 -0.123941       2        1  18.176985\n",
       "4     -0.030086  0.053922       3        1  17.659782\n",
       "2      0.098340 -0.029574       4        1  16.145185\n",
       "1     -0.160646  0.028326       5        1   7.588113, topic_info=          Term         Freq        Total Category  logprob  loglift\n",
       "203     market  2527.000000  2527.000000  Default  30.0000  30.0000\n",
       "1500      rate   857.000000   857.000000  Default  29.0000  29.0000\n",
       "1399       fed   436.000000   436.000000  Default  28.0000  28.0000\n",
       "2907       cnn   345.000000   345.000000  Default  27.0000  27.0000\n",
       "86    customer  1773.000000  1773.000000  Default  26.0000  26.0000\n",
       "...        ...          ...          ...      ...      ...      ...\n",
       "356       time   177.701187  2396.831787   Topic5  -5.3802  -0.0232\n",
       "776      right   128.358795   911.536255   Topic5  -5.7055   0.6183\n",
       "504     growth   140.169662  1457.646484   Topic5  -5.6175   0.2369\n",
       "2234    expect   117.331055   667.973145   Topic5  -5.7953   0.8393\n",
       "1393      data   118.444054  1345.182617   Topic5  -5.7859   0.1487\n",
       "\n",
       "[437 rows x 6 columns], token_table=      Topic      Freq        Term\n",
       "term                             \n",
       "997       1  0.252430      across\n",
       "997       2  0.427189      across\n",
       "997       3  0.128863      across\n",
       "997       4  0.167698      across\n",
       "997       5  0.021183      across\n",
       "...     ...       ...         ...\n",
       "2905      3  0.027218        zoom\n",
       "2905      4  0.753037        zoom\n",
       "4194      3  0.047005  zuckerberg\n",
       "4194      4  0.141015  zuckerberg\n",
       "4194      5  0.799087  zuckerberg\n",
       "\n",
       "[1126 rows x 3 columns], R=30, lambda_step=0.01, plot_opts={'xlab': 'PC1', 'ylab': 'PC2'}, topic_order=[1, 4, 5, 3, 2])"
      ]
     },
     "execution_count": 29,
     "metadata": {},
     "output_type": "execute_result"
    }
   ],
   "source": [
    "LDAvis_prepared"
   ]
  },
  {
   "cell_type": "code",
   "execution_count": null,
   "metadata": {},
   "outputs": [],
   "source": []
  },
  {
   "cell_type": "markdown",
   "metadata": {},
   "source": [
    "# References"
   ]
  },
  {
   "cell_type": "markdown",
   "metadata": {},
   "source": [
    "https://yunusmuhammad007.medium.com/text-preprocessing-menggunakan-pandas-nltk-dan-sastrawi-untuk-large-dataset-5fb3c0a88571\n",
    "\n",
    "https://towardsdatascience.com/end-to-end-topic-modeling-in-python-latent-dirichlet-allocation-lda-35ce4ed6b3e0\n",
    "\n"
   ]
  }
 ],
 "metadata": {
  "kernelspec": {
   "display_name": "Python 3",
   "language": "python",
   "name": "python3"
  },
  "language_info": {
   "codemirror_mode": {
    "name": "ipython",
    "version": 3
   },
   "file_extension": ".py",
   "mimetype": "text/x-python",
   "name": "python",
   "nbconvert_exporter": "python",
   "pygments_lexer": "ipython3",
   "version": "3.8.3"
  }
 },
 "nbformat": 4,
 "nbformat_minor": 4
}
