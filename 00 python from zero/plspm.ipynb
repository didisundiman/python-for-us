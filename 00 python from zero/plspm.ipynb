{
 "cells": [
  {
   "cell_type": "markdown",
   "id": "macro-sender",
   "metadata": {},
   "source": [
    "# PLSPM\n",
    "Ref:\n",
    "\n",
    "https://plspm.readthedocs.io/en/latest/source/plspm.bootstrap.html\n",
    "\n",
    "https://pypi.org/project/plspm/"
   ]
  },
  {
   "cell_type": "markdown",
   "id": "oriented-folks",
   "metadata": {},
   "source": [
    "# prepare Data"
   ]
  },
  {
   "cell_type": "code",
   "execution_count": 1,
   "id": "executive-print",
   "metadata": {},
   "outputs": [],
   "source": [
    "import pandas as pd, plspm.config as c\n",
    "from plspm.plspm import Plspm\n",
    "from plspm.scheme import Scheme\n",
    "from plspm.mode import Mode\n",
    "from plspm.bootstrap import Bootstrap"
   ]
  },
  {
   "cell_type": "code",
   "execution_count": 2,
   "id": "needed-september",
   "metadata": {},
   "outputs": [
    {
     "data": {
      "text/html": [
       "<div>\n",
       "<style scoped>\n",
       "    .dataframe tbody tr th:only-of-type {\n",
       "        vertical-align: middle;\n",
       "    }\n",
       "\n",
       "    .dataframe tbody tr th {\n",
       "        vertical-align: top;\n",
       "    }\n",
       "\n",
       "    .dataframe thead th {\n",
       "        text-align: right;\n",
       "    }\n",
       "</style>\n",
       "<table border=\"1\" class=\"dataframe\">\n",
       "  <thead>\n",
       "    <tr style=\"text-align: right;\">\n",
       "      <th></th>\n",
       "      <th>adv.comp</th>\n",
       "      <th>adv.acces</th>\n",
       "      <th>adv.comm</th>\n",
       "      <th>adv.qual</th>\n",
       "      <th>tut.prof</th>\n",
       "      <th>tut.sched</th>\n",
       "      <th>tut.stud</th>\n",
       "      <th>tut.qual</th>\n",
       "      <th>val.devel</th>\n",
       "      <th>val.deci</th>\n",
       "      <th>val.meet</th>\n",
       "      <th>val.info</th>\n",
       "      <th>sat.glad</th>\n",
       "      <th>sat.expe</th>\n",
       "      <th>sat.over</th>\n",
       "    </tr>\n",
       "    <tr>\n",
       "      <th>no</th>\n",
       "      <th></th>\n",
       "      <th></th>\n",
       "      <th></th>\n",
       "      <th></th>\n",
       "      <th></th>\n",
       "      <th></th>\n",
       "      <th></th>\n",
       "      <th></th>\n",
       "      <th></th>\n",
       "      <th></th>\n",
       "      <th></th>\n",
       "      <th></th>\n",
       "      <th></th>\n",
       "      <th></th>\n",
       "      <th></th>\n",
       "    </tr>\n",
       "  </thead>\n",
       "  <tbody>\n",
       "    <tr>\n",
       "      <th>1</th>\n",
       "      <td>5</td>\n",
       "      <td>5</td>\n",
       "      <td>6</td>\n",
       "      <td>6</td>\n",
       "      <td>5</td>\n",
       "      <td>4</td>\n",
       "      <td>6</td>\n",
       "      <td>7</td>\n",
       "      <td>5</td>\n",
       "      <td>5</td>\n",
       "      <td>6</td>\n",
       "      <td>7</td>\n",
       "      <td>7</td>\n",
       "      <td>7</td>\n",
       "      <td>7</td>\n",
       "    </tr>\n",
       "    <tr>\n",
       "      <th>2</th>\n",
       "      <td>6</td>\n",
       "      <td>6</td>\n",
       "      <td>5</td>\n",
       "      <td>6</td>\n",
       "      <td>6</td>\n",
       "      <td>6</td>\n",
       "      <td>6</td>\n",
       "      <td>6</td>\n",
       "      <td>6</td>\n",
       "      <td>4</td>\n",
       "      <td>7</td>\n",
       "      <td>6</td>\n",
       "      <td>7</td>\n",
       "      <td>7</td>\n",
       "      <td>7</td>\n",
       "    </tr>\n",
       "    <tr>\n",
       "      <th>3</th>\n",
       "      <td>6</td>\n",
       "      <td>6</td>\n",
       "      <td>6</td>\n",
       "      <td>6</td>\n",
       "      <td>6</td>\n",
       "      <td>6</td>\n",
       "      <td>6</td>\n",
       "      <td>6</td>\n",
       "      <td>6</td>\n",
       "      <td>7</td>\n",
       "      <td>7</td>\n",
       "      <td>7</td>\n",
       "      <td>7</td>\n",
       "      <td>6</td>\n",
       "      <td>6</td>\n",
       "    </tr>\n",
       "    <tr>\n",
       "      <th>4</th>\n",
       "      <td>1</td>\n",
       "      <td>2</td>\n",
       "      <td>1</td>\n",
       "      <td>1</td>\n",
       "      <td>3</td>\n",
       "      <td>2</td>\n",
       "      <td>1</td>\n",
       "      <td>1</td>\n",
       "      <td>1</td>\n",
       "      <td>1</td>\n",
       "      <td>1</td>\n",
       "      <td>2</td>\n",
       "      <td>1</td>\n",
       "      <td>1</td>\n",
       "      <td>1</td>\n",
       "    </tr>\n",
       "    <tr>\n",
       "      <th>5</th>\n",
       "      <td>7</td>\n",
       "      <td>6</td>\n",
       "      <td>7</td>\n",
       "      <td>7</td>\n",
       "      <td>7</td>\n",
       "      <td>7</td>\n",
       "      <td>6</td>\n",
       "      <td>7</td>\n",
       "      <td>7</td>\n",
       "      <td>7</td>\n",
       "      <td>7</td>\n",
       "      <td>7</td>\n",
       "      <td>7</td>\n",
       "      <td>7</td>\n",
       "      <td>7</td>\n",
       "    </tr>\n",
       "    <tr>\n",
       "      <th>...</th>\n",
       "      <td>...</td>\n",
       "      <td>...</td>\n",
       "      <td>...</td>\n",
       "      <td>...</td>\n",
       "      <td>...</td>\n",
       "      <td>...</td>\n",
       "      <td>...</td>\n",
       "      <td>...</td>\n",
       "      <td>...</td>\n",
       "      <td>...</td>\n",
       "      <td>...</td>\n",
       "      <td>...</td>\n",
       "      <td>...</td>\n",
       "      <td>...</td>\n",
       "      <td>...</td>\n",
       "    </tr>\n",
       "    <tr>\n",
       "      <th>177</th>\n",
       "      <td>6</td>\n",
       "      <td>6</td>\n",
       "      <td>7</td>\n",
       "      <td>7</td>\n",
       "      <td>7</td>\n",
       "      <td>7</td>\n",
       "      <td>7</td>\n",
       "      <td>7</td>\n",
       "      <td>5</td>\n",
       "      <td>5</td>\n",
       "      <td>4</td>\n",
       "      <td>6</td>\n",
       "      <td>7</td>\n",
       "      <td>7</td>\n",
       "      <td>7</td>\n",
       "    </tr>\n",
       "    <tr>\n",
       "      <th>178</th>\n",
       "      <td>7</td>\n",
       "      <td>7</td>\n",
       "      <td>7</td>\n",
       "      <td>7</td>\n",
       "      <td>6</td>\n",
       "      <td>5</td>\n",
       "      <td>2</td>\n",
       "      <td>7</td>\n",
       "      <td>4</td>\n",
       "      <td>3</td>\n",
       "      <td>5</td>\n",
       "      <td>7</td>\n",
       "      <td>7</td>\n",
       "      <td>5</td>\n",
       "      <td>7</td>\n",
       "    </tr>\n",
       "    <tr>\n",
       "      <th>179</th>\n",
       "      <td>6</td>\n",
       "      <td>6</td>\n",
       "      <td>6</td>\n",
       "      <td>6</td>\n",
       "      <td>6</td>\n",
       "      <td>6</td>\n",
       "      <td>5</td>\n",
       "      <td>6</td>\n",
       "      <td>4</td>\n",
       "      <td>5</td>\n",
       "      <td>6</td>\n",
       "      <td>4</td>\n",
       "      <td>6</td>\n",
       "      <td>5</td>\n",
       "      <td>7</td>\n",
       "    </tr>\n",
       "    <tr>\n",
       "      <th>180</th>\n",
       "      <td>7</td>\n",
       "      <td>5</td>\n",
       "      <td>7</td>\n",
       "      <td>7</td>\n",
       "      <td>7</td>\n",
       "      <td>7</td>\n",
       "      <td>6</td>\n",
       "      <td>7</td>\n",
       "      <td>7</td>\n",
       "      <td>7</td>\n",
       "      <td>6</td>\n",
       "      <td>7</td>\n",
       "      <td>7</td>\n",
       "      <td>7</td>\n",
       "      <td>7</td>\n",
       "    </tr>\n",
       "    <tr>\n",
       "      <th>181</th>\n",
       "      <td>6</td>\n",
       "      <td>7</td>\n",
       "      <td>7</td>\n",
       "      <td>7</td>\n",
       "      <td>7</td>\n",
       "      <td>5</td>\n",
       "      <td>5</td>\n",
       "      <td>5</td>\n",
       "      <td>5</td>\n",
       "      <td>5</td>\n",
       "      <td>3</td>\n",
       "      <td>5</td>\n",
       "      <td>7</td>\n",
       "      <td>7</td>\n",
       "      <td>6</td>\n",
       "    </tr>\n",
       "  </tbody>\n",
       "</table>\n",
       "<p>181 rows × 15 columns</p>\n",
       "</div>"
      ],
      "text/plain": [
       "     adv.comp  adv.acces  adv.comm  adv.qual  tut.prof  tut.sched  tut.stud  \\\n",
       "no                                                                            \n",
       "1           5          5         6         6         5          4         6   \n",
       "2           6          6         5         6         6          6         6   \n",
       "3           6          6         6         6         6          6         6   \n",
       "4           1          2         1         1         3          2         1   \n",
       "5           7          6         7         7         7          7         6   \n",
       "..        ...        ...       ...       ...       ...        ...       ...   \n",
       "177         6          6         7         7         7          7         7   \n",
       "178         7          7         7         7         6          5         2   \n",
       "179         6          6         6         6         6          6         5   \n",
       "180         7          5         7         7         7          7         6   \n",
       "181         6          7         7         7         7          5         5   \n",
       "\n",
       "     tut.qual  val.devel  val.deci  val.meet  val.info  sat.glad  sat.expe  \\\n",
       "no                                                                           \n",
       "1           7          5         5         6         7         7         7   \n",
       "2           6          6         4         7         6         7         7   \n",
       "3           6          6         7         7         7         7         6   \n",
       "4           1          1         1         1         2         1         1   \n",
       "5           7          7         7         7         7         7         7   \n",
       "..        ...        ...       ...       ...       ...       ...       ...   \n",
       "177         7          5         5         4         6         7         7   \n",
       "178         7          4         3         5         7         7         5   \n",
       "179         6          4         5         6         4         6         5   \n",
       "180         7          7         7         6         7         7         7   \n",
       "181         5          5         5         3         5         7         7   \n",
       "\n",
       "     sat.over  \n",
       "no             \n",
       "1           7  \n",
       "2           7  \n",
       "3           6  \n",
       "4           1  \n",
       "5           7  \n",
       "..        ...  \n",
       "177         7  \n",
       "178         7  \n",
       "179         7  \n",
       "180         7  \n",
       "181         6  \n",
       "\n",
       "[181 rows x 15 columns]"
      ]
     },
     "execution_count": 2,
     "metadata": {},
     "output_type": "execute_result"
    }
   ],
   "source": [
    "df = pd.read_csv(\"educationFull.csv\", index_col=0)\n",
    "df"
   ]
  },
  {
   "cell_type": "markdown",
   "id": "former-cosmetic",
   "metadata": {},
   "source": [
    "# Inner model"
   ]
  },
  {
   "cell_type": "code",
   "execution_count": 3,
   "id": "homeless-minneapolis",
   "metadata": {},
   "outputs": [],
   "source": [
    "structure = c.Structure()\n",
    "structure.add_path([\"Tutoring\"], [\"Value\", \"Satisfaction\"])\n",
    "structure.add_path([\"Advising\"], [\"Value\", \"Satisfaction\"])\n",
    "structure.add_path([\"Value\"], [\"Satisfaction\"])"
   ]
  },
  {
   "cell_type": "markdown",
   "id": "documentary-wholesale",
   "metadata": {},
   "source": [
    "# Outer model"
   ]
  },
  {
   "cell_type": "code",
   "execution_count": 4,
   "id": "specified-hacker",
   "metadata": {},
   "outputs": [],
   "source": [
    "config = c.Config(structure.path(), scaled=False)\n",
    "config.add_lv_with_columns_named(\"Advising\", Mode.A, df, \"adv.\")\n",
    "config.add_lv_with_columns_named(\"Tutoring\", Mode.A, df, \"tut.\")\n",
    "config.add_lv_with_columns_named(\"Value\", Mode.A, df, \"val.\")\n",
    "config.add_lv_with_columns_named(\"Satisfaction\", Mode.A, df, \"sat.\")"
   ]
  },
  {
   "cell_type": "markdown",
   "id": "lyric-isaac",
   "metadata": {},
   "source": [
    "# Run PLSPM"
   ]
  },
  {
   "cell_type": "code",
   "execution_count": 5,
   "id": "separated-musical",
   "metadata": {},
   "outputs": [],
   "source": [
    "plspm_calc = Plspm(df, config, Scheme.CENTROID)"
   ]
  },
  {
   "cell_type": "markdown",
   "id": "hired-mixer",
   "metadata": {},
   "source": [
    "# Tahap 1 Measurement Model Assessment"
   ]
  },
  {
   "cell_type": "markdown",
   "id": "mysterious-medication",
   "metadata": {},
   "source": [
    "# Unidimensionality\n",
    "apakah indikator mewakili dengan baik variabel yang diukurnya? cronbach alpha > 0.7"
   ]
  },
  {
   "cell_type": "code",
   "execution_count": 6,
   "id": "suited-bubble",
   "metadata": {},
   "outputs": [
    {
     "name": "stdout",
     "output_type": "stream",
     "text": [
      "             mode  mvs  cronbach_alpha  dillon_goldstein_rho   eig_1st  \\\n",
      "Advising        A  4.0        0.928266              0.949207  3.295520   \n",
      "Tutoring        A  4.0        0.854538              0.902076  2.791439   \n",
      "Value           A  4.0        0.910305              0.937132  3.154300   \n",
      "Satisfaction    A  3.0        0.902496              0.938981  2.510583   \n",
      "\n",
      "               eig_2nd  \n",
      "Advising      0.342964  \n",
      "Tutoring      0.537691  \n",
      "Value         0.509034  \n",
      "Satisfaction  0.269996  \n"
     ]
    }
   ],
   "source": [
    "print(plspm_calc.unidimensionality())"
   ]
  },
  {
   "cell_type": "markdown",
   "id": "southwest-administration",
   "metadata": {},
   "source": [
    "# Pengujian keeratan hubungan dan reliability indikator\n",
    "Apakah setiap indikator memiliki hubungan dan reliability yang bagus untuk mengukur variabelnya masing-masing? melalui outer loading > 0.7 dan communality test > 0.5"
   ]
  },
  {
   "cell_type": "code",
   "execution_count": 7,
   "id": "elementary-haven",
   "metadata": {},
   "outputs": [
    {
     "name": "stdout",
     "output_type": "stream",
     "text": [
      "             weight   loading  communality  redundancy\n",
      "adv.acces  0.272757  0.860972     0.741273    0.000000\n",
      "adv.comm   0.294725  0.913783     0.835000    0.000000\n",
      "adv.comp   0.282000  0.908484     0.825343    0.000000\n",
      "adv.qual   0.286350  0.945273     0.893541    0.000000\n",
      "sat.expe   0.443745  0.937496     0.878899    0.544873\n",
      "sat.glad   0.321565  0.875993     0.767364    0.475727\n",
      "sat.over   0.420202  0.923379     0.852629    0.528587\n",
      "tut.prof   0.237017  0.852851     0.727354    0.000000\n",
      "tut.qual   0.252423  0.831787     0.691870    0.000000\n",
      "tut.sched  0.275277  0.839592     0.704914    0.000000\n",
      "tut.stud   0.289914  0.807236     0.651631    0.000000\n",
      "val.deci   0.213664  0.901333     0.812402    0.274736\n",
      "val.devel  0.200658  0.910101     0.828284    0.280107\n",
      "val.info   0.209723  0.833153     0.694143    0.234743\n",
      "val.meet   0.216428  0.904675     0.818437    0.276777\n"
     ]
    }
   ],
   "source": [
    "print(plspm_calc.outer_model())"
   ]
  },
  {
   "cell_type": "markdown",
   "id": "minimal-childhood",
   "metadata": {},
   "source": [
    "# Pengujian cross-loadings\n",
    "indikator dari setiap variabel mengukur dengan baik variabelnya?"
   ]
  },
  {
   "cell_type": "code",
   "execution_count": 8,
   "id": "adjustable-hearts",
   "metadata": {},
   "outputs": [
    {
     "name": "stdout",
     "output_type": "stream",
     "text": [
      "           Advising  Tutoring     Value  Satisfaction\n",
      "adv.comp   0.908484  0.394973  0.444365      0.590545\n",
      "adv.acces  0.860972  0.382887  0.436924      0.568210\n",
      "adv.comm   0.913783  0.437880  0.504293      0.622446\n",
      "adv.qual   0.945273  0.469160  0.487960      0.647233\n",
      "tut.prof   0.478194  0.852851  0.404130      0.439302\n",
      "tut.sched  0.344407  0.839592  0.430834      0.448029\n",
      "tut.stud   0.347235  0.807236  0.391401      0.438054\n",
      "tut.qual   0.400463  0.831787  0.356838      0.428795\n",
      "val.devel  0.441119  0.362468  0.910101      0.558442\n",
      "val.deci   0.463181  0.427291  0.901333      0.548523\n",
      "val.meet   0.403174  0.413052  0.904675      0.637721\n",
      "val.info   0.550123  0.507118  0.833153      0.705011\n",
      "sat.glad   0.548367  0.458563  0.567506      0.875993\n",
      "sat.expe   0.580246  0.478314  0.630338      0.937496\n",
      "sat.over   0.702627  0.511318  0.665520      0.923379\n"
     ]
    }
   ],
   "source": [
    "print(plspm_calc.crossloadings())"
   ]
  },
  {
   "cell_type": "markdown",
   "id": "deadly-swing",
   "metadata": {},
   "source": [
    "# Tahap 2 Structural Model Assessment"
   ]
  },
  {
   "cell_type": "markdown",
   "id": "legislative-republican",
   "metadata": {},
   "source": [
    "# Persamaan regresi tiap variabel endogen"
   ]
  },
  {
   "cell_type": "code",
   "execution_count": 9,
   "id": "pursuant-service",
   "metadata": {},
   "outputs": [
    {
     "name": "stdout",
     "output_type": "stream",
     "text": [
      "                              from            to  estimate  std error  \\\n",
      "index                                                                   \n",
      "Advising -> Value         Advising         Value  0.376421   0.068836   \n",
      "Tutoring -> Value         Tutoring         Value  0.301769   0.068836   \n",
      "Advising -> Satisfaction  Advising  Satisfaction  0.385645   0.056534   \n",
      "Tutoring -> Satisfaction  Tutoring  Satisfaction  0.153268   0.055062   \n",
      "Value -> Satisfaction        Value  Satisfaction  0.411162   0.056959   \n",
      "\n",
      "                                 t         p>|t|  \n",
      "index                                             \n",
      "Advising -> Value         5.468391  1.519027e-07  \n",
      "Tutoring -> Value         4.383894  1.989436e-05  \n",
      "Advising -> Satisfaction  6.821492  1.374939e-10  \n",
      "Tutoring -> Satisfaction  2.783564  5.960808e-03  \n",
      "Value -> Satisfaction     7.218540  1.490079e-11  \n"
     ]
    }
   ],
   "source": [
    "print(plspm_calc.inner_model())"
   ]
  },
  {
   "cell_type": "markdown",
   "id": "recent-jones",
   "metadata": {},
   "source": [
    "# Koefisien determinasi R2 dan Redundancy\n",
    "Redundancy, nilai mean_redundancy yang semakin besar menunjukkan kemampuan variabel independent semakin mampu mengukur variasi variabel endogen nya."
   ]
  },
  {
   "cell_type": "code",
   "execution_count": 10,
   "id": "seventh-stockholm",
   "metadata": {},
   "outputs": [
    {
     "name": "stdout",
     "output_type": "stream",
     "text": [
      "                    type  r_squared  r_squared_adj  block_communality  \\\n",
      "Advising       Exogenous   0.000000       0.000000           0.823789   \n",
      "Satisfaction  Endogenous   0.619950       0.613508           0.832964   \n",
      "Tutoring       Exogenous   0.000000       0.000000           0.693942   \n",
      "Value         Endogenous   0.338177       0.330741           0.788317   \n",
      "\n",
      "              mean_redundancy       ave  \n",
      "Advising             0.000000  0.823789  \n",
      "Satisfaction         0.516396  0.832964  \n",
      "Tutoring             0.000000  0.693942  \n",
      "Value                0.266591  0.788317  \n"
     ]
    }
   ],
   "source": [
    "print(plspm_calc.inner_summary())"
   ]
  },
  {
   "cell_type": "markdown",
   "id": "invisible-kennedy",
   "metadata": {},
   "source": [
    "# the Goodness-of-Fit (GoF)\n",
    "Semakin besar nilai GoF menunjukkan semakin bagusnya kinerja dan kualitas secara umum dari model pengukuran baik inner maupun outer model."
   ]
  },
  {
   "cell_type": "code",
   "execution_count": 11,
   "id": "catholic-cradle",
   "metadata": {},
   "outputs": [
    {
     "data": {
      "text/plain": [
       "0.6118878070103781"
      ]
     },
     "execution_count": 11,
     "metadata": {},
     "output_type": "execute_result"
    }
   ],
   "source": [
    "plspm_calc.goodness_of_fit()"
   ]
  },
  {
   "cell_type": "code",
   "execution_count": null,
   "id": "quiet-session",
   "metadata": {},
   "outputs": [],
   "source": [
    "print(plspm_calc.effects())"
   ]
  },
  {
   "cell_type": "code",
   "execution_count": null,
   "id": "tutorial-stephen",
   "metadata": {},
   "outputs": [],
   "source": [
    "print(plspm_calc.path_coefficients())"
   ]
  },
  {
   "cell_type": "markdown",
   "id": "blank-pendant",
   "metadata": {},
   "source": [
    "# Tahap 3 Bootstrapping"
   ]
  },
  {
   "cell_type": "code",
   "execution_count": 12,
   "id": "distributed-capture",
   "metadata": {},
   "outputs": [],
   "source": [
    "plspm_calc = Plspm(df, config, bootstrap=True, bootstrap_iterations=500)"
   ]
  },
  {
   "cell_type": "markdown",
   "id": "referenced-equipment",
   "metadata": {},
   "source": [
    "# Direct effects for paths\n",
    "calculated from bootstrap validation."
   ]
  },
  {
   "cell_type": "code",
   "execution_count": 13,
   "id": "acquired-happiness",
   "metadata": {},
   "outputs": [
    {
     "data": {
      "text/html": [
       "<div>\n",
       "<style scoped>\n",
       "    .dataframe tbody tr th:only-of-type {\n",
       "        vertical-align: middle;\n",
       "    }\n",
       "\n",
       "    .dataframe tbody tr th {\n",
       "        vertical-align: top;\n",
       "    }\n",
       "\n",
       "    .dataframe thead th {\n",
       "        text-align: right;\n",
       "    }\n",
       "</style>\n",
       "<table border=\"1\" class=\"dataframe\">\n",
       "  <thead>\n",
       "    <tr style=\"text-align: right;\">\n",
       "      <th></th>\n",
       "      <th>original</th>\n",
       "      <th>mean</th>\n",
       "      <th>std.error</th>\n",
       "      <th>perc.025</th>\n",
       "      <th>perc.975</th>\n",
       "      <th>t stat.</th>\n",
       "    </tr>\n",
       "  </thead>\n",
       "  <tbody>\n",
       "    <tr>\n",
       "      <th>Advising -&gt; Value</th>\n",
       "      <td>0.376421</td>\n",
       "      <td>0.373387</td>\n",
       "      <td>0.068150</td>\n",
       "      <td>0.236667</td>\n",
       "      <td>0.509556</td>\n",
       "      <td>5.523446</td>\n",
       "    </tr>\n",
       "    <tr>\n",
       "      <th>Advising -&gt; Satisfaction</th>\n",
       "      <td>0.385645</td>\n",
       "      <td>0.380358</td>\n",
       "      <td>0.077005</td>\n",
       "      <td>0.224530</td>\n",
       "      <td>0.532438</td>\n",
       "      <td>5.008022</td>\n",
       "    </tr>\n",
       "    <tr>\n",
       "      <th>Tutoring -&gt; Value</th>\n",
       "      <td>0.301769</td>\n",
       "      <td>0.305460</td>\n",
       "      <td>0.065250</td>\n",
       "      <td>0.168636</td>\n",
       "      <td>0.432480</td>\n",
       "      <td>4.624813</td>\n",
       "    </tr>\n",
       "    <tr>\n",
       "      <th>Tutoring -&gt; Satisfaction</th>\n",
       "      <td>0.153268</td>\n",
       "      <td>0.150191</td>\n",
       "      <td>0.054324</td>\n",
       "      <td>0.045602</td>\n",
       "      <td>0.260480</td>\n",
       "      <td>2.821378</td>\n",
       "    </tr>\n",
       "    <tr>\n",
       "      <th>Value -&gt; Satisfaction</th>\n",
       "      <td>0.411162</td>\n",
       "      <td>0.411274</td>\n",
       "      <td>0.073400</td>\n",
       "      <td>0.265122</td>\n",
       "      <td>0.553818</td>\n",
       "      <td>5.601620</td>\n",
       "    </tr>\n",
       "  </tbody>\n",
       "</table>\n",
       "</div>"
      ],
      "text/plain": [
       "                          original      mean  std.error  perc.025  perc.975  \\\n",
       "Advising -> Value         0.376421  0.373387   0.068150  0.236667  0.509556   \n",
       "Advising -> Satisfaction  0.385645  0.380358   0.077005  0.224530  0.532438   \n",
       "Tutoring -> Value         0.301769  0.305460   0.065250  0.168636  0.432480   \n",
       "Tutoring -> Satisfaction  0.153268  0.150191   0.054324  0.045602  0.260480   \n",
       "Value -> Satisfaction     0.411162  0.411274   0.073400  0.265122  0.553818   \n",
       "\n",
       "                           t stat.  \n",
       "Advising -> Value         5.523446  \n",
       "Advising -> Satisfaction  5.008022  \n",
       "Tutoring -> Value         4.624813  \n",
       "Tutoring -> Satisfaction  2.821378  \n",
       "Value -> Satisfaction     5.601620  "
      ]
     },
     "execution_count": 13,
     "metadata": {},
     "output_type": "execute_result"
    }
   ],
   "source": [
    "plspm_calc.bootstrap().paths()"
   ]
  },
  {
   "cell_type": "markdown",
   "id": "forward-threshold",
   "metadata": {},
   "source": [
    "# Total effects for paths \n",
    "Indirect effects calculated from bootstrap validation."
   ]
  },
  {
   "cell_type": "code",
   "execution_count": 14,
   "id": "explicit-cheat",
   "metadata": {},
   "outputs": [
    {
     "data": {
      "text/html": [
       "<div>\n",
       "<style scoped>\n",
       "    .dataframe tbody tr th:only-of-type {\n",
       "        vertical-align: middle;\n",
       "    }\n",
       "\n",
       "    .dataframe tbody tr th {\n",
       "        vertical-align: top;\n",
       "    }\n",
       "\n",
       "    .dataframe thead th {\n",
       "        text-align: right;\n",
       "    }\n",
       "</style>\n",
       "<table border=\"1\" class=\"dataframe\">\n",
       "  <thead>\n",
       "    <tr style=\"text-align: right;\">\n",
       "      <th></th>\n",
       "      <th>original</th>\n",
       "      <th>mean</th>\n",
       "      <th>std.error</th>\n",
       "      <th>perc.025</th>\n",
       "      <th>perc.975</th>\n",
       "      <th>t stat.</th>\n",
       "    </tr>\n",
       "  </thead>\n",
       "  <tbody>\n",
       "    <tr>\n",
       "      <th>Advising -&gt; Value</th>\n",
       "      <td>0.376421</td>\n",
       "      <td>0.373387</td>\n",
       "      <td>0.068150</td>\n",
       "      <td>0.236667</td>\n",
       "      <td>0.509556</td>\n",
       "      <td>5.523446</td>\n",
       "    </tr>\n",
       "    <tr>\n",
       "      <th>Advising -&gt; Satisfaction</th>\n",
       "      <td>0.540415</td>\n",
       "      <td>0.532240</td>\n",
       "      <td>0.072852</td>\n",
       "      <td>0.373176</td>\n",
       "      <td>0.668689</td>\n",
       "      <td>7.417948</td>\n",
       "    </tr>\n",
       "    <tr>\n",
       "      <th>Tutoring -&gt; Value</th>\n",
       "      <td>0.301769</td>\n",
       "      <td>0.305460</td>\n",
       "      <td>0.065250</td>\n",
       "      <td>0.168636</td>\n",
       "      <td>0.432480</td>\n",
       "      <td>4.624813</td>\n",
       "    </tr>\n",
       "    <tr>\n",
       "      <th>Tutoring -&gt; Satisfaction</th>\n",
       "      <td>0.277344</td>\n",
       "      <td>0.276604</td>\n",
       "      <td>0.055170</td>\n",
       "      <td>0.170078</td>\n",
       "      <td>0.388800</td>\n",
       "      <td>5.027118</td>\n",
       "    </tr>\n",
       "    <tr>\n",
       "      <th>Value -&gt; Satisfaction</th>\n",
       "      <td>0.411162</td>\n",
       "      <td>0.411274</td>\n",
       "      <td>0.073400</td>\n",
       "      <td>0.265122</td>\n",
       "      <td>0.553818</td>\n",
       "      <td>5.601620</td>\n",
       "    </tr>\n",
       "  </tbody>\n",
       "</table>\n",
       "</div>"
      ],
      "text/plain": [
       "                          original      mean  std.error  perc.025  perc.975  \\\n",
       "Advising -> Value         0.376421  0.373387   0.068150  0.236667  0.509556   \n",
       "Advising -> Satisfaction  0.540415  0.532240   0.072852  0.373176  0.668689   \n",
       "Tutoring -> Value         0.301769  0.305460   0.065250  0.168636  0.432480   \n",
       "Tutoring -> Satisfaction  0.277344  0.276604   0.055170  0.170078  0.388800   \n",
       "Value -> Satisfaction     0.411162  0.411274   0.073400  0.265122  0.553818   \n",
       "\n",
       "                           t stat.  \n",
       "Advising -> Value         5.523446  \n",
       "Advising -> Satisfaction  7.417948  \n",
       "Tutoring -> Value         4.624813  \n",
       "Tutoring -> Satisfaction  5.027118  \n",
       "Value -> Satisfaction     5.601620  "
      ]
     },
     "execution_count": 14,
     "metadata": {},
     "output_type": "execute_result"
    }
   ],
   "source": [
    "plspm_calc.bootstrap().total_effects()"
   ]
  },
  {
   "cell_type": "markdown",
   "id": "driving-exemption",
   "metadata": {},
   "source": [
    "R squared for latent variables calculated from bootstrap validation."
   ]
  },
  {
   "cell_type": "code",
   "execution_count": null,
   "id": "coordinate-cornwall",
   "metadata": {},
   "outputs": [],
   "source": [
    "plspm_calc.bootstrap().r_squared()"
   ]
  },
  {
   "cell_type": "markdown",
   "id": "chubby-punch",
   "metadata": {},
   "source": [
    "Loadings of manifest variables calculated from bootstrap validation."
   ]
  },
  {
   "cell_type": "code",
   "execution_count": null,
   "id": "coordinate-compromise",
   "metadata": {},
   "outputs": [],
   "source": [
    "plspm_calc.bootstrap().loading()"
   ]
  },
  {
   "cell_type": "markdown",
   "id": "therapeutic-rotation",
   "metadata": {},
   "source": [
    "Outer weights calculated from bootstrap validation."
   ]
  },
  {
   "cell_type": "code",
   "execution_count": null,
   "id": "changing-merchant",
   "metadata": {},
   "outputs": [],
   "source": [
    "plspm_calc.bootstrap().weights()"
   ]
  },
  {
   "cell_type": "code",
   "execution_count": null,
   "id": "grave-warren",
   "metadata": {},
   "outputs": [],
   "source": []
  }
 ],
 "metadata": {
  "kernelspec": {
   "display_name": "Python 3",
   "language": "python",
   "name": "python3"
  },
  "language_info": {
   "codemirror_mode": {
    "name": "ipython",
    "version": 3
   },
   "file_extension": ".py",
   "mimetype": "text/x-python",
   "name": "python",
   "nbconvert_exporter": "python",
   "pygments_lexer": "ipython3",
   "version": "3.8.8"
  }
 },
 "nbformat": 4,
 "nbformat_minor": 5
}
