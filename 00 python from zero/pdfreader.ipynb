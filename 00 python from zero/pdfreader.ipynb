{
 "cells": [
  {
   "cell_type": "markdown",
   "metadata": {},
   "source": [
    "# pdf to dataframe and excel"
   ]
  },
  {
   "cell_type": "code",
   "execution_count": 1,
   "metadata": {},
   "outputs": [
    {
     "data": {
      "text/plain": [
       "['pdfreader\\\\file1.pdf', 'pdfreader\\\\file2.pdf', 'pdfreader\\\\file3.pdf']"
      ]
     },
     "execution_count": 1,
     "metadata": {},
     "output_type": "execute_result"
    }
   ],
   "source": [
    "from tika import parser\n",
    "import glob\n",
    "\n",
    "# file pdf disimpan di folder pdfreader\n",
    "pdf_dir = \"pdfreader/\"\n",
    "\n",
    "pdf_files = glob.glob(\"%s/*.pdf\" % pdf_dir)\n",
    "\n",
    "pdf_files"
   ]
  },
  {
   "cell_type": "code",
   "execution_count": 2,
   "metadata": {},
   "outputs": [],
   "source": [
    "import pandas as pd\n",
    "from tika import parser\n",
    "import csv\n",
    "import re\n",
    "import cleantext"
   ]
  },
  {
   "cell_type": "markdown",
   "metadata": {},
   "source": [
    "# prepare dataframe"
   ]
  },
  {
   "cell_type": "code",
   "execution_count": 3,
   "metadata": {},
   "outputs": [
    {
     "data": {
      "text/html": [
       "<div>\n",
       "<style scoped>\n",
       "    .dataframe tbody tr th:only-of-type {\n",
       "        vertical-align: middle;\n",
       "    }\n",
       "\n",
       "    .dataframe tbody tr th {\n",
       "        vertical-align: top;\n",
       "    }\n",
       "\n",
       "    .dataframe thead th {\n",
       "        text-align: right;\n",
       "    }\n",
       "</style>\n",
       "<table border=\"1\" class=\"dataframe\">\n",
       "  <thead>\n",
       "    <tr style=\"text-align: right;\">\n",
       "      <th></th>\n",
       "      <th>articlename</th>\n",
       "      <th>textdata</th>\n",
       "    </tr>\n",
       "  </thead>\n",
       "  <tbody>\n",
       "  </tbody>\n",
       "</table>\n",
       "</div>"
      ],
      "text/plain": [
       "Empty DataFrame\n",
       "Columns: [articlename, textdata]\n",
       "Index: []"
      ]
     },
     "execution_count": 3,
     "metadata": {},
     "output_type": "execute_result"
    }
   ],
   "source": [
    "dataSB = pd.DataFrame(columns=['articlename','textdata'])\n",
    "dataSB"
   ]
  },
  {
   "cell_type": "code",
   "execution_count": 4,
   "metadata": {},
   "outputs": [],
   "source": [
    "for file in pdf_files:\n",
    "    \n",
    "    namebersih=file.replace(pdf_dir+\"\\\\\", \"\")\n",
    "    namebersihsekali=namebersih.replace(\".pdf\", \"\")\n",
    "\n",
    "    parsed_tika=parser.from_file(file)\n",
    "    textbersih = cleantext.clean(parsed_tika[\"content\"], extra_spaces=False, lowercase=True, numbers=False, punct=True)\n",
    "    \n",
    "    textbersihsekali = textbersih.replace(\"\\n\", \" \")\n",
    "    \n",
    "    new_row = {'articlename':namebersihsekali, 'textdata':textbersihsekali}\n",
    "\n",
    "    dataSB = dataSB.append(new_row, ignore_index=True)"
   ]
  },
  {
   "cell_type": "code",
   "execution_count": 5,
   "metadata": {},
   "outputs": [
    {
     "data": {
      "text/html": [
       "<div>\n",
       "<style scoped>\n",
       "    .dataframe tbody tr th:only-of-type {\n",
       "        vertical-align: middle;\n",
       "    }\n",
       "\n",
       "    .dataframe tbody tr th {\n",
       "        vertical-align: top;\n",
       "    }\n",
       "\n",
       "    .dataframe thead th {\n",
       "        text-align: right;\n",
       "    }\n",
       "</style>\n",
       "<table border=\"1\" class=\"dataframe\">\n",
       "  <thead>\n",
       "    <tr style=\"text-align: right;\">\n",
       "      <th></th>\n",
       "      <th>articlename</th>\n",
       "      <th>textdata</th>\n",
       "    </tr>\n",
       "  </thead>\n",
       "  <tbody>\n",
       "    <tr>\n",
       "      <th>0</th>\n",
       "      <td>pdfreader\\file1</td>\n",
       "      <td>ini isi dari file 1 halaman 1         ini isi ...</td>\n",
       "    </tr>\n",
       "    <tr>\n",
       "      <th>1</th>\n",
       "      <td>pdfreader\\file2</td>\n",
       "      <td>ini isi dari file 2 halaman a            ini i...</td>\n",
       "    </tr>\n",
       "    <tr>\n",
       "      <th>2</th>\n",
       "      <td>pdfreader\\file3</td>\n",
       "      <td>ini isi dari file 3 halaman p         ini isi ...</td>\n",
       "    </tr>\n",
       "  </tbody>\n",
       "</table>\n",
       "</div>"
      ],
      "text/plain": [
       "       articlename                                           textdata\n",
       "0  pdfreader\\file1  ini isi dari file 1 halaman 1         ini isi ...\n",
       "1  pdfreader\\file2  ini isi dari file 2 halaman a            ini i...\n",
       "2  pdfreader\\file3  ini isi dari file 3 halaman p         ini isi ..."
      ]
     },
     "execution_count": 5,
     "metadata": {},
     "output_type": "execute_result"
    }
   ],
   "source": [
    "dataSB"
   ]
  },
  {
   "cell_type": "code",
   "execution_count": 6,
   "metadata": {},
   "outputs": [],
   "source": [
    "filedisimpan=pdf_dir + 'pdftodata.xlsx'\n",
    "dataSB.to_excel(filedisimpan, index = False, header=True)"
   ]
  },
  {
   "cell_type": "code",
   "execution_count": null,
   "metadata": {},
   "outputs": [],
   "source": []
  }
 ],
 "metadata": {
  "kernelspec": {
   "display_name": "Python 3",
   "language": "python",
   "name": "python3"
  },
  "language_info": {
   "codemirror_mode": {
    "name": "ipython",
    "version": 3
   },
   "file_extension": ".py",
   "mimetype": "text/x-python",
   "name": "python",
   "nbconvert_exporter": "python",
   "pygments_lexer": "ipython3",
   "version": "3.8.8"
  }
 },
 "nbformat": 4,
 "nbformat_minor": 4
}
