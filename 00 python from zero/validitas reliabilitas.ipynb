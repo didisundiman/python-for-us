{
 "cells": [
  {
   "cell_type": "code",
   "execution_count": null,
   "id": "upper-pioneer",
   "metadata": {},
   "outputs": [],
   "source": [
    "import pandas as pd"
   ]
  },
  {
   "cell_type": "code",
   "execution_count": null,
   "id": "fitting-election",
   "metadata": {},
   "outputs": [],
   "source": [
    "import numpy as np"
   ]
  },
  {
   "cell_type": "code",
   "execution_count": null,
   "id": "boxed-personal",
   "metadata": {},
   "outputs": [],
   "source": [
    "# di laptop saya folder tutorial1 ini berada di dalam folder jupyterproject\n",
    "# letakkan folder data dan file jupyter notebook ini dalam satu folder tutorial1\n",
    "\n",
    "fileLocation = '../tutorial1/data/table9KPL.xlsx'\n",
    "dataKita = pd.read_excel(fileLocation)\n",
    "dataKita"
   ]
  },
  {
   "cell_type": "markdown",
   "id": "banned-bosnia",
   "metadata": {},
   "source": [
    "# Validitas"
   ]
  },
  {
   "cell_type": "code",
   "execution_count": null,
   "id": "successful-graphics",
   "metadata": {},
   "outputs": [],
   "source": [
    "df=dataKita.loc[0:22,'KPL1':'sumKPL']\n",
    "df"
   ]
  },
  {
   "cell_type": "code",
   "execution_count": null,
   "id": "available-singles",
   "metadata": {},
   "outputs": [],
   "source": [
    "corr_matrix = df.corr()\n",
    "corr_matrix"
   ]
  },
  {
   "cell_type": "markdown",
   "id": "signal-temple",
   "metadata": {},
   "source": [
    "# Reliabilitas"
   ]
  },
  {
   "cell_type": "code",
   "execution_count": null,
   "id": "advisory-vault",
   "metadata": {},
   "outputs": [],
   "source": [
    "# fungsi ini diambil dari artikel dari Max Hilsdorf (towardsdatascience.com)\n",
    "def cronbach_alpha(df):\n",
    "    # 1. Transform the df into a correlation matrix\n",
    "    df_corr = df.corr()\n",
    "    \n",
    "    # 2.1 Calculate N\n",
    "    # The number of variables equals the number of columns in the df\n",
    "    N = df.shape[1]\n",
    "    \n",
    "    # 2.2 Calculate R\n",
    "    # For this, we'll loop through the columns and append every\n",
    "    # relevant correlation to an array calles \"r_s\". Then, we'll\n",
    "    # calculate the mean of \"r_s\"\n",
    "    rs = np.array([])\n",
    "    for i, col in enumerate(df_corr.columns):\n",
    "        sum_ = df_corr[col][i+1:].values\n",
    "        rs = np.append(sum_, rs)\n",
    "    mean_r = np.mean(rs)\n",
    "    \n",
    "   # 3. Use the formula to calculate Cronbach's Alpha \n",
    "    cronbach_alpha = (N * mean_r) / (1 + (N - 1) * mean_r)\n",
    "    return cronbach_alpha"
   ]
  },
  {
   "cell_type": "code",
   "execution_count": null,
   "id": "velvet-thunder",
   "metadata": {},
   "outputs": [],
   "source": [
    "df=dataKita.loc[0:22,'KPL1':'KPL7']\n",
    "df"
   ]
  },
  {
   "cell_type": "code",
   "execution_count": null,
   "id": "northern-private",
   "metadata": {},
   "outputs": [],
   "source": [
    "cronbach_alpha(df)"
   ]
  },
  {
   "cell_type": "code",
   "execution_count": null,
   "id": "european-necessity",
   "metadata": {},
   "outputs": [],
   "source": []
  }
 ],
 "metadata": {
  "kernelspec": {
   "display_name": "Python 3",
   "language": "python",
   "name": "python3"
  },
  "language_info": {
   "codemirror_mode": {
    "name": "ipython",
    "version": 3
   },
   "file_extension": ".py",
   "mimetype": "text/x-python",
   "name": "python",
   "nbconvert_exporter": "python",
   "pygments_lexer": "ipython3",
   "version": "3.8.8"
  }
 },
 "nbformat": 4,
 "nbformat_minor": 5
}
